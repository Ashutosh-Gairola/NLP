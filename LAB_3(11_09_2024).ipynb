{
  "nbformat": 4,
  "nbformat_minor": 0,
  "metadata": {
    "colab": {
      "provenance": [],
      "mount_file_id": "https://github.com/Ashutosh-Gairola/NLP/blob/main/LAB_3(11_09_2024).ipynb",
      "authorship_tag": "ABX9TyODJI9vVYNzIucQegFaXH3J",
      "include_colab_link": true
    },
    "kernelspec": {
      "name": "python3",
      "display_name": "Python 3"
    },
    "language_info": {
      "name": "python"
    }
  },
  "cells": [
    {
      "cell_type": "markdown",
      "metadata": {
        "id": "view-in-github",
        "colab_type": "text"
      },
      "source": [
        "<a href=\"https://colab.research.google.com/github/Ashutosh-Gairola/NLP/blob/main/LAB_3(11_09_2024).ipynb\" target=\"_parent\"><img src=\"https://colab.research.google.com/assets/colab-badge.svg\" alt=\"Open In Colab\"/></a>"
      ]
    },
    {
      "cell_type": "code",
      "execution_count": 10,
      "metadata": {
        "colab": {
          "base_uri": "https://localhost:8080/"
        },
        "collapsed": true,
        "id": "baQgG-lya4pw",
        "outputId": "66393802-5d6a-44d7-d7c8-9fbf13eb4513"
      },
      "outputs": [
        {
          "output_type": "stream",
          "name": "stdout",
          "text": [
            "Requirement already satisfied: python-docx in /usr/local/lib/python3.10/dist-packages (1.1.2)\n",
            "Requirement already satisfied: nltk in /usr/local/lib/python3.10/dist-packages (3.8.1)\n",
            "Requirement already satisfied: lxml>=3.1.0 in /usr/local/lib/python3.10/dist-packages (from python-docx) (4.9.4)\n",
            "Requirement already satisfied: typing-extensions>=4.9.0 in /usr/local/lib/python3.10/dist-packages (from python-docx) (4.12.2)\n",
            "Requirement already satisfied: click in /usr/local/lib/python3.10/dist-packages (from nltk) (8.1.7)\n",
            "Requirement already satisfied: joblib in /usr/local/lib/python3.10/dist-packages (from nltk) (1.4.2)\n",
            "Requirement already satisfied: regex>=2021.8.3 in /usr/local/lib/python3.10/dist-packages (from nltk) (2024.5.15)\n",
            "Requirement already satisfied: tqdm in /usr/local/lib/python3.10/dist-packages (from nltk) (4.66.5)\n"
          ]
        }
      ],
      "source": [
        "!pip install python-docx nltk"
      ]
    },
    {
      "cell_type": "code",
      "source": [
        "import docx\n",
        "import nltk\n",
        "nltk.download(\"all\")"
      ],
      "metadata": {
        "colab": {
          "base_uri": "https://localhost:8080/"
        },
        "collapsed": true,
        "id": "R_S86dulbZoH",
        "outputId": "0fee2b66-8c44-41a4-b677-f349f7c19128"
      },
      "execution_count": 11,
      "outputs": [
        {
          "output_type": "stream",
          "name": "stderr",
          "text": [
            "[nltk_data] Downloading collection 'all'\n",
            "[nltk_data]    | \n",
            "[nltk_data]    | Downloading package abc to /root/nltk_data...\n",
            "[nltk_data]    |   Package abc is already up-to-date!\n",
            "[nltk_data]    | Downloading package alpino to /root/nltk_data...\n",
            "[nltk_data]    |   Package alpino is already up-to-date!\n",
            "[nltk_data]    | Downloading package averaged_perceptron_tagger to\n",
            "[nltk_data]    |     /root/nltk_data...\n",
            "[nltk_data]    |   Package averaged_perceptron_tagger is already up-\n",
            "[nltk_data]    |       to-date!\n",
            "[nltk_data]    | Downloading package averaged_perceptron_tagger_eng to\n",
            "[nltk_data]    |     /root/nltk_data...\n",
            "[nltk_data]    |   Package averaged_perceptron_tagger_eng is already\n",
            "[nltk_data]    |       up-to-date!\n",
            "[nltk_data]    | Downloading package averaged_perceptron_tagger_ru to\n",
            "[nltk_data]    |     /root/nltk_data...\n",
            "[nltk_data]    |   Package averaged_perceptron_tagger_ru is already\n",
            "[nltk_data]    |       up-to-date!\n",
            "[nltk_data]    | Downloading package averaged_perceptron_tagger_rus to\n",
            "[nltk_data]    |     /root/nltk_data...\n",
            "[nltk_data]    |   Package averaged_perceptron_tagger_rus is already\n",
            "[nltk_data]    |       up-to-date!\n",
            "[nltk_data]    | Downloading package basque_grammars to\n",
            "[nltk_data]    |     /root/nltk_data...\n",
            "[nltk_data]    |   Package basque_grammars is already up-to-date!\n",
            "[nltk_data]    | Downloading package bcp47 to /root/nltk_data...\n",
            "[nltk_data]    |   Package bcp47 is already up-to-date!\n",
            "[nltk_data]    | Downloading package biocreative_ppi to\n",
            "[nltk_data]    |     /root/nltk_data...\n",
            "[nltk_data]    |   Package biocreative_ppi is already up-to-date!\n",
            "[nltk_data]    | Downloading package bllip_wsj_no_aux to\n",
            "[nltk_data]    |     /root/nltk_data...\n",
            "[nltk_data]    |   Package bllip_wsj_no_aux is already up-to-date!\n",
            "[nltk_data]    | Downloading package book_grammars to\n",
            "[nltk_data]    |     /root/nltk_data...\n",
            "[nltk_data]    |   Package book_grammars is already up-to-date!\n",
            "[nltk_data]    | Downloading package brown to /root/nltk_data...\n",
            "[nltk_data]    |   Package brown is already up-to-date!\n",
            "[nltk_data]    | Downloading package brown_tei to /root/nltk_data...\n",
            "[nltk_data]    |   Package brown_tei is already up-to-date!\n",
            "[nltk_data]    | Downloading package cess_cat to /root/nltk_data...\n",
            "[nltk_data]    |   Package cess_cat is already up-to-date!\n",
            "[nltk_data]    | Downloading package cess_esp to /root/nltk_data...\n",
            "[nltk_data]    |   Package cess_esp is already up-to-date!\n",
            "[nltk_data]    | Downloading package chat80 to /root/nltk_data...\n",
            "[nltk_data]    |   Package chat80 is already up-to-date!\n",
            "[nltk_data]    | Downloading package city_database to\n",
            "[nltk_data]    |     /root/nltk_data...\n",
            "[nltk_data]    |   Package city_database is already up-to-date!\n",
            "[nltk_data]    | Downloading package cmudict to /root/nltk_data...\n",
            "[nltk_data]    |   Package cmudict is already up-to-date!\n",
            "[nltk_data]    | Downloading package comparative_sentences to\n",
            "[nltk_data]    |     /root/nltk_data...\n",
            "[nltk_data]    |   Package comparative_sentences is already up-to-\n",
            "[nltk_data]    |       date!\n",
            "[nltk_data]    | Downloading package comtrans to /root/nltk_data...\n",
            "[nltk_data]    |   Package comtrans is already up-to-date!\n",
            "[nltk_data]    | Downloading package conll2000 to /root/nltk_data...\n",
            "[nltk_data]    |   Package conll2000 is already up-to-date!\n",
            "[nltk_data]    | Downloading package conll2002 to /root/nltk_data...\n",
            "[nltk_data]    |   Package conll2002 is already up-to-date!\n",
            "[nltk_data]    | Downloading package conll2007 to /root/nltk_data...\n",
            "[nltk_data]    |   Package conll2007 is already up-to-date!\n",
            "[nltk_data]    | Downloading package crubadan to /root/nltk_data...\n",
            "[nltk_data]    |   Package crubadan is already up-to-date!\n",
            "[nltk_data]    | Downloading package dependency_treebank to\n",
            "[nltk_data]    |     /root/nltk_data...\n",
            "[nltk_data]    |   Package dependency_treebank is already up-to-date!\n",
            "[nltk_data]    | Downloading package dolch to /root/nltk_data...\n",
            "[nltk_data]    |   Package dolch is already up-to-date!\n",
            "[nltk_data]    | Downloading package europarl_raw to\n",
            "[nltk_data]    |     /root/nltk_data...\n",
            "[nltk_data]    |   Package europarl_raw is already up-to-date!\n",
            "[nltk_data]    | Downloading package extended_omw to\n",
            "[nltk_data]    |     /root/nltk_data...\n",
            "[nltk_data]    |   Package extended_omw is already up-to-date!\n",
            "[nltk_data]    | Downloading package floresta to /root/nltk_data...\n",
            "[nltk_data]    |   Package floresta is already up-to-date!\n",
            "[nltk_data]    | Downloading package framenet_v15 to\n",
            "[nltk_data]    |     /root/nltk_data...\n",
            "[nltk_data]    |   Package framenet_v15 is already up-to-date!\n",
            "[nltk_data]    | Downloading package framenet_v17 to\n",
            "[nltk_data]    |     /root/nltk_data...\n",
            "[nltk_data]    |   Package framenet_v17 is already up-to-date!\n",
            "[nltk_data]    | Downloading package gazetteers to /root/nltk_data...\n",
            "[nltk_data]    |   Package gazetteers is already up-to-date!\n",
            "[nltk_data]    | Downloading package genesis to /root/nltk_data...\n",
            "[nltk_data]    |   Package genesis is already up-to-date!\n",
            "[nltk_data]    | Downloading package gutenberg to /root/nltk_data...\n",
            "[nltk_data]    |   Package gutenberg is already up-to-date!\n",
            "[nltk_data]    | Downloading package ieer to /root/nltk_data...\n",
            "[nltk_data]    |   Package ieer is already up-to-date!\n",
            "[nltk_data]    | Downloading package inaugural to /root/nltk_data...\n",
            "[nltk_data]    |   Package inaugural is already up-to-date!\n",
            "[nltk_data]    | Downloading package indian to /root/nltk_data...\n",
            "[nltk_data]    |   Package indian is already up-to-date!\n",
            "[nltk_data]    | Downloading package jeita to /root/nltk_data...\n",
            "[nltk_data]    |   Package jeita is already up-to-date!\n",
            "[nltk_data]    | Downloading package kimmo to /root/nltk_data...\n",
            "[nltk_data]    |   Package kimmo is already up-to-date!\n",
            "[nltk_data]    | Downloading package knbc to /root/nltk_data...\n",
            "[nltk_data]    |   Package knbc is already up-to-date!\n",
            "[nltk_data]    | Downloading package large_grammars to\n",
            "[nltk_data]    |     /root/nltk_data...\n",
            "[nltk_data]    |   Package large_grammars is already up-to-date!\n",
            "[nltk_data]    | Downloading package lin_thesaurus to\n",
            "[nltk_data]    |     /root/nltk_data...\n",
            "[nltk_data]    |   Package lin_thesaurus is already up-to-date!\n",
            "[nltk_data]    | Downloading package mac_morpho to /root/nltk_data...\n",
            "[nltk_data]    |   Package mac_morpho is already up-to-date!\n",
            "[nltk_data]    | Downloading package machado to /root/nltk_data...\n",
            "[nltk_data]    |   Package machado is already up-to-date!\n",
            "[nltk_data]    | Downloading package masc_tagged to /root/nltk_data...\n",
            "[nltk_data]    |   Package masc_tagged is already up-to-date!\n",
            "[nltk_data]    | Downloading package maxent_ne_chunker to\n",
            "[nltk_data]    |     /root/nltk_data...\n",
            "[nltk_data]    |   Package maxent_ne_chunker is already up-to-date!\n",
            "[nltk_data]    | Downloading package maxent_ne_chunker_tab to\n",
            "[nltk_data]    |     /root/nltk_data...\n",
            "[nltk_data]    |   Package maxent_ne_chunker_tab is already up-to-\n",
            "[nltk_data]    |       date!\n",
            "[nltk_data]    | Downloading package maxent_treebank_pos_tagger to\n",
            "[nltk_data]    |     /root/nltk_data...\n",
            "[nltk_data]    |   Package maxent_treebank_pos_tagger is already up-\n",
            "[nltk_data]    |       to-date!\n",
            "[nltk_data]    | Downloading package maxent_treebank_pos_tagger_tab to\n",
            "[nltk_data]    |     /root/nltk_data...\n",
            "[nltk_data]    |   Package maxent_treebank_pos_tagger_tab is already\n",
            "[nltk_data]    |       up-to-date!\n",
            "[nltk_data]    | Downloading package moses_sample to\n",
            "[nltk_data]    |     /root/nltk_data...\n",
            "[nltk_data]    |   Package moses_sample is already up-to-date!\n",
            "[nltk_data]    | Downloading package movie_reviews to\n",
            "[nltk_data]    |     /root/nltk_data...\n",
            "[nltk_data]    |   Package movie_reviews is already up-to-date!\n",
            "[nltk_data]    | Downloading package mte_teip5 to /root/nltk_data...\n",
            "[nltk_data]    |   Package mte_teip5 is already up-to-date!\n",
            "[nltk_data]    | Downloading package mwa_ppdb to /root/nltk_data...\n",
            "[nltk_data]    |   Package mwa_ppdb is already up-to-date!\n",
            "[nltk_data]    | Downloading package names to /root/nltk_data...\n",
            "[nltk_data]    |   Package names is already up-to-date!\n",
            "[nltk_data]    | Downloading package nombank.1.0 to /root/nltk_data...\n",
            "[nltk_data]    |   Package nombank.1.0 is already up-to-date!\n",
            "[nltk_data]    | Downloading package nonbreaking_prefixes to\n",
            "[nltk_data]    |     /root/nltk_data...\n",
            "[nltk_data]    |   Package nonbreaking_prefixes is already up-to-date!\n",
            "[nltk_data]    | Downloading package nps_chat to /root/nltk_data...\n",
            "[nltk_data]    |   Package nps_chat is already up-to-date!\n",
            "[nltk_data]    | Downloading package omw to /root/nltk_data...\n",
            "[nltk_data]    |   Package omw is already up-to-date!\n",
            "[nltk_data]    | Downloading package omw-1.4 to /root/nltk_data...\n",
            "[nltk_data]    |   Package omw-1.4 is already up-to-date!\n",
            "[nltk_data]    | Downloading package opinion_lexicon to\n",
            "[nltk_data]    |     /root/nltk_data...\n",
            "[nltk_data]    |   Package opinion_lexicon is already up-to-date!\n",
            "[nltk_data]    | Downloading package panlex_swadesh to\n",
            "[nltk_data]    |     /root/nltk_data...\n",
            "[nltk_data]    |   Package panlex_swadesh is already up-to-date!\n",
            "[nltk_data]    | Downloading package paradigms to /root/nltk_data...\n",
            "[nltk_data]    |   Package paradigms is already up-to-date!\n",
            "[nltk_data]    | Downloading package pe08 to /root/nltk_data...\n",
            "[nltk_data]    |   Package pe08 is already up-to-date!\n",
            "[nltk_data]    | Downloading package perluniprops to\n",
            "[nltk_data]    |     /root/nltk_data...\n",
            "[nltk_data]    |   Package perluniprops is already up-to-date!\n",
            "[nltk_data]    | Downloading package pil to /root/nltk_data...\n",
            "[nltk_data]    |   Package pil is already up-to-date!\n",
            "[nltk_data]    | Downloading package pl196x to /root/nltk_data...\n",
            "[nltk_data]    |   Package pl196x is already up-to-date!\n",
            "[nltk_data]    | Downloading package porter_test to /root/nltk_data...\n",
            "[nltk_data]    |   Package porter_test is already up-to-date!\n",
            "[nltk_data]    | Downloading package ppattach to /root/nltk_data...\n",
            "[nltk_data]    |   Package ppattach is already up-to-date!\n",
            "[nltk_data]    | Downloading package problem_reports to\n",
            "[nltk_data]    |     /root/nltk_data...\n",
            "[nltk_data]    |   Package problem_reports is already up-to-date!\n",
            "[nltk_data]    | Downloading package product_reviews_1 to\n",
            "[nltk_data]    |     /root/nltk_data...\n",
            "[nltk_data]    |   Package product_reviews_1 is already up-to-date!\n",
            "[nltk_data]    | Downloading package product_reviews_2 to\n",
            "[nltk_data]    |     /root/nltk_data...\n",
            "[nltk_data]    |   Package product_reviews_2 is already up-to-date!\n",
            "[nltk_data]    | Downloading package propbank to /root/nltk_data...\n",
            "[nltk_data]    |   Package propbank is already up-to-date!\n",
            "[nltk_data]    | Downloading package pros_cons to /root/nltk_data...\n",
            "[nltk_data]    |   Package pros_cons is already up-to-date!\n",
            "[nltk_data]    | Downloading package ptb to /root/nltk_data...\n",
            "[nltk_data]    |   Package ptb is already up-to-date!\n",
            "[nltk_data]    | Downloading package punkt to /root/nltk_data...\n",
            "[nltk_data]    |   Package punkt is already up-to-date!\n",
            "[nltk_data]    | Downloading package punkt_tab to /root/nltk_data...\n",
            "[nltk_data]    |   Package punkt_tab is already up-to-date!\n",
            "[nltk_data]    | Downloading package qc to /root/nltk_data...\n",
            "[nltk_data]    |   Package qc is already up-to-date!\n",
            "[nltk_data]    | Downloading package reuters to /root/nltk_data...\n",
            "[nltk_data]    |   Package reuters is already up-to-date!\n",
            "[nltk_data]    | Downloading package rslp to /root/nltk_data...\n",
            "[nltk_data]    |   Package rslp is already up-to-date!\n",
            "[nltk_data]    | Downloading package rte to /root/nltk_data...\n",
            "[nltk_data]    |   Package rte is already up-to-date!\n",
            "[nltk_data]    | Downloading package sample_grammars to\n",
            "[nltk_data]    |     /root/nltk_data...\n",
            "[nltk_data]    |   Package sample_grammars is already up-to-date!\n",
            "[nltk_data]    | Downloading package semcor to /root/nltk_data...\n",
            "[nltk_data]    |   Package semcor is already up-to-date!\n",
            "[nltk_data]    | Downloading package senseval to /root/nltk_data...\n",
            "[nltk_data]    |   Package senseval is already up-to-date!\n",
            "[nltk_data]    | Downloading package sentence_polarity to\n",
            "[nltk_data]    |     /root/nltk_data...\n",
            "[nltk_data]    |   Package sentence_polarity is already up-to-date!\n",
            "[nltk_data]    | Downloading package sentiwordnet to\n",
            "[nltk_data]    |     /root/nltk_data...\n",
            "[nltk_data]    |   Package sentiwordnet is already up-to-date!\n",
            "[nltk_data]    | Downloading package shakespeare to /root/nltk_data...\n",
            "[nltk_data]    |   Package shakespeare is already up-to-date!\n",
            "[nltk_data]    | Downloading package sinica_treebank to\n",
            "[nltk_data]    |     /root/nltk_data...\n",
            "[nltk_data]    |   Package sinica_treebank is already up-to-date!\n",
            "[nltk_data]    | Downloading package smultron to /root/nltk_data...\n",
            "[nltk_data]    |   Package smultron is already up-to-date!\n",
            "[nltk_data]    | Downloading package snowball_data to\n",
            "[nltk_data]    |     /root/nltk_data...\n",
            "[nltk_data]    |   Package snowball_data is already up-to-date!\n",
            "[nltk_data]    | Downloading package spanish_grammars to\n",
            "[nltk_data]    |     /root/nltk_data...\n",
            "[nltk_data]    |   Package spanish_grammars is already up-to-date!\n",
            "[nltk_data]    | Downloading package state_union to /root/nltk_data...\n",
            "[nltk_data]    |   Package state_union is already up-to-date!\n",
            "[nltk_data]    | Downloading package stopwords to /root/nltk_data...\n",
            "[nltk_data]    |   Package stopwords is already up-to-date!\n",
            "[nltk_data]    | Downloading package subjectivity to\n",
            "[nltk_data]    |     /root/nltk_data...\n",
            "[nltk_data]    |   Package subjectivity is already up-to-date!\n",
            "[nltk_data]    | Downloading package swadesh to /root/nltk_data...\n",
            "[nltk_data]    |   Package swadesh is already up-to-date!\n",
            "[nltk_data]    | Downloading package switchboard to /root/nltk_data...\n",
            "[nltk_data]    |   Package switchboard is already up-to-date!\n",
            "[nltk_data]    | Downloading package tagsets to /root/nltk_data...\n",
            "[nltk_data]    |   Package tagsets is already up-to-date!\n",
            "[nltk_data]    | Downloading package tagsets_json to\n",
            "[nltk_data]    |     /root/nltk_data...\n",
            "[nltk_data]    |   Package tagsets_json is already up-to-date!\n",
            "[nltk_data]    | Downloading package timit to /root/nltk_data...\n",
            "[nltk_data]    |   Package timit is already up-to-date!\n",
            "[nltk_data]    | Downloading package toolbox to /root/nltk_data...\n",
            "[nltk_data]    |   Package toolbox is already up-to-date!\n",
            "[nltk_data]    | Downloading package treebank to /root/nltk_data...\n",
            "[nltk_data]    |   Package treebank is already up-to-date!\n",
            "[nltk_data]    | Downloading package twitter_samples to\n",
            "[nltk_data]    |     /root/nltk_data...\n",
            "[nltk_data]    |   Package twitter_samples is already up-to-date!\n",
            "[nltk_data]    | Downloading package udhr to /root/nltk_data...\n",
            "[nltk_data]    |   Package udhr is already up-to-date!\n",
            "[nltk_data]    | Downloading package udhr2 to /root/nltk_data...\n",
            "[nltk_data]    |   Package udhr2 is already up-to-date!\n",
            "[nltk_data]    | Downloading package unicode_samples to\n",
            "[nltk_data]    |     /root/nltk_data...\n",
            "[nltk_data]    |   Package unicode_samples is already up-to-date!\n",
            "[nltk_data]    | Downloading package universal_tagset to\n",
            "[nltk_data]    |     /root/nltk_data...\n",
            "[nltk_data]    |   Package universal_tagset is already up-to-date!\n",
            "[nltk_data]    | Downloading package universal_treebanks_v20 to\n",
            "[nltk_data]    |     /root/nltk_data...\n",
            "[nltk_data]    |   Package universal_treebanks_v20 is already up-to-\n",
            "[nltk_data]    |       date!\n",
            "[nltk_data]    | Downloading package vader_lexicon to\n",
            "[nltk_data]    |     /root/nltk_data...\n",
            "[nltk_data]    |   Package vader_lexicon is already up-to-date!\n",
            "[nltk_data]    | Downloading package verbnet to /root/nltk_data...\n",
            "[nltk_data]    |   Package verbnet is already up-to-date!\n",
            "[nltk_data]    | Downloading package verbnet3 to /root/nltk_data...\n",
            "[nltk_data]    |   Package verbnet3 is already up-to-date!\n",
            "[nltk_data]    | Downloading package webtext to /root/nltk_data...\n",
            "[nltk_data]    |   Package webtext is already up-to-date!\n",
            "[nltk_data]    | Downloading package wmt15_eval to /root/nltk_data...\n",
            "[nltk_data]    |   Package wmt15_eval is already up-to-date!\n",
            "[nltk_data]    | Downloading package word2vec_sample to\n",
            "[nltk_data]    |     /root/nltk_data...\n",
            "[nltk_data]    |   Package word2vec_sample is already up-to-date!\n",
            "[nltk_data]    | Downloading package wordnet to /root/nltk_data...\n",
            "[nltk_data]    |   Package wordnet is already up-to-date!\n",
            "[nltk_data]    | Downloading package wordnet2021 to /root/nltk_data...\n",
            "[nltk_data]    |   Package wordnet2021 is already up-to-date!\n",
            "[nltk_data]    | Downloading package wordnet2022 to /root/nltk_data...\n",
            "[nltk_data]    |   Package wordnet2022 is already up-to-date!\n",
            "[nltk_data]    | Downloading package wordnet31 to /root/nltk_data...\n",
            "[nltk_data]    |   Package wordnet31 is already up-to-date!\n",
            "[nltk_data]    | Downloading package wordnet_ic to /root/nltk_data...\n",
            "[nltk_data]    |   Package wordnet_ic is already up-to-date!\n",
            "[nltk_data]    | Downloading package words to /root/nltk_data...\n",
            "[nltk_data]    |   Package words is already up-to-date!\n",
            "[nltk_data]    | Downloading package ycoe to /root/nltk_data...\n",
            "[nltk_data]    |   Package ycoe is already up-to-date!\n",
            "[nltk_data]    | \n",
            "[nltk_data]  Done downloading collection all\n"
          ]
        },
        {
          "output_type": "execute_result",
          "data": {
            "text/plain": [
              "True"
            ]
          },
          "metadata": {},
          "execution_count": 11
        }
      ]
    },
    {
      "cell_type": "code",
      "source": [
        "from nltk.tokenize import word_tokenize\n",
        "from nltk.stem import PorterStemmer,WordNetLemmatizer"
      ],
      "metadata": {
        "id": "4nN1jIt1boVH"
      },
      "execution_count": 12,
      "outputs": []
    },
    {
      "cell_type": "code",
      "source": [
        "doc=docx.Document(\"/content/drive/MyDrive/Colab Notebooks/NLP_Sem7_pythonLab/the-enchanted-forest-adventure.docx\")"
      ],
      "metadata": {
        "id": "-bLvoehIbvk0"
      },
      "execution_count": 13,
      "outputs": []
    },
    {
      "cell_type": "code",
      "source": [
        "sentences=[]\n",
        "for paragraph in doc.paragraphs:\n",
        "  sentences.extend(paragraph.text)\n",
        "\n",
        "stemmer=PorterStemmer()\n",
        "lemmatizer=WordNetLemmatizer()\n"
      ],
      "metadata": {
        "id": "KklUfAoac_2a"
      },
      "execution_count": 14,
      "outputs": []
    },
    {
      "cell_type": "markdown",
      "source": [
        "## Stemming"
      ],
      "metadata": {
        "id": "113Oa8WMd4Kc"
      }
    },
    {
      "cell_type": "code",
      "source": [
        "\n",
        "stemmed_sentences=[]\n",
        "for sentence in sentences:\n",
        "  stemmed_sentence=[]\n",
        "  for word in sentence.split():\n",
        "    stemmed_word=stemmer.stem(word)\n",
        "    stemmed_sentence.append(stemmed_word)\n",
        "  stemmed_sentences.append(\" \".join(stemmed_sentence))\n",
        "\n"
      ],
      "metadata": {
        "id": "-Aeq_lr8d0Ba"
      },
      "execution_count": 15,
      "outputs": []
    },
    {
      "cell_type": "markdown",
      "source": [
        "## lemmatixation"
      ],
      "metadata": {
        "id": "AK03lvkad6Sj"
      }
    },
    {
      "cell_type": "code",
      "source": [
        "lemmatized_sentences=[]\n",
        "for sentence in sentences:\n",
        "  lemmatized_sentence=[]\n",
        "  for word in sentence.split():\n",
        "    lemmatized_word=lemmatizer.lemmatize(word)\n",
        "    lemmatized_sentence.append(lemmatized_word)\n",
        "  lemmatized_sentences.append(\" \".join(lemmatized_sentence))"
      ],
      "metadata": {
        "id": "VNNes7OTd1iv"
      },
      "execution_count": 16,
      "outputs": []
    },
    {
      "cell_type": "code",
      "source": [
        "print(\"Stemmed Sentences:\")\n",
        "print(stemmed_sentences)"
      ],
      "metadata": {
        "colab": {
          "base_uri": "https://localhost:8080/"
        },
        "id": "yZ3VadlaeKJU",
        "outputId": "a0764b7f-8e4c-4fcc-e3f5-1934bf310836"
      },
      "execution_count": 17,
      "outputs": [
        {
          "output_type": "stream",
          "name": "stdout",
          "text": [
            "Stemmed Sentences:\n",
            "['t', 'h', 'e', '', 'e', 'n', 'c', 'h', 'a', 'n', 't', 'e', 'd', '', 'f', 'o', 'r', 'e', 's', 't', '', 'a', 'd', 'v', 'e', 'n', 't', 'u', 'r', 'e', 'f', 'a', 'n', 't', 'a', 's', 't', 'i', 'c', '', 's', 't', 'o', 'r', 'y', '', '•', '', '5', '-', '6', '', 'y', 'e', 'a', 'r', 's', '', 'o', 'l', 'd', 'c', 'h', 'a', 'p', 't', 'e', 'r', '', '1', ':', '', 't', 'h', 'e', '', 'e', 'n', 'c', 'h', 'a', 'n', 't', 'e', 'd', '', 'f', 'o', 'r', 'e', 's', 't', 'o', 'n', 'c', 'e', '', 'u', 'p', 'o', 'n', '', 'a', '', 't', 'i', 'm', 'e', ',', '', 'i', 'n', '', 'a', '', 'm', 'a', 'g', 'i', 'c', 'a', 'l', '', 'l', 'a', 'n', 'd', '', 'f', 'a', 'r', ',', '', 'f', 'a', 'r', '', 'a', 'w', 'a', 'y', ',', '', 't', 'h', 'e', 'r', 'e', '', 'w', 'a', 's', '', 'a', '', 'l', 'i', 't', 't', 'l', 'e', '', 'g', 'i', 'r', 'l', '', 'n', 'a', 'm', 'e', 'd', '', 'l', 'i', 'l', 'y', '.', '', 's', 'h', 'e', '', 'w', 'a', 's', '', 'a', '', 'c', 'u', 'r', 'i', 'o', 'u', 's', '', 'a', 'n', 'd', '', 'a', 'd', 'v', 'e', 'n', 't', 'u', 'r', 'o', 'u', 's', '', 's', 'i', 'x', '-', 'y', 'e', 'a', 'r', '-', 'o', 'l', 'd', '', 'w', 'h', 'o', '', 'l', 'o', 'v', 'e', 'd', '', 'e', 'x', 'p', 'l', 'o', 'r', 'i', 'n', 'g', '', 't', 'h', 'e', '', 'w', 'o', 'r', 'l', 'd', '', 'a', 'r', 'o', 'u', 'n', 'd', '', 'h', 'e', 'r', '.', '', 'o', 'n', 'e', '', 's', 'u', 'n', 'n', 'y', '', 'm', 'o', 'r', 'n', 'i', 'n', 'g', ',', '', 'l', 'i', 'l', 'y', '', 'd', 'e', 'c', 'i', 'd', 'e', 'd', '', 't', 'o', '', 'v', 'e', 'n', 't', 'u', 'r', 'e', '', 'i', 'n', 't', 'o', '', 't', 'h', 'e', '', 'e', 'n', 'c', 'h', 'a', 'n', 't', 'e', 'd', '', 'f', 'o', 'r', 'e', 's', 't', ',', '', 'a', '', 'p', 'l', 'a', 'c', 'e', '', 'f', 'u', 'l', 'l', '', 'o', 'f', '', 'w', 'o', 'n', 'd', 'e', 'r', '', 'a', 'n', 'd', '', 'm', 'y', 's', 't', 'e', 'r', 'y', '.', 'a', 's', '', 'l', 'i', 'l', 'y', '', 'm', 'a', 'd', 'e', '', 'h', 'e', 'r', '', 'w', 'a', 'y', '', 't', 'h', 'r', 'o', 'u', 'g', 'h', '', 't', 'h', 'e', '', 't', 'a', 'l', 'l', '', 't', 'r', 'e', 'e', 's', ',', '', 's', 'h', 'e', '', 'c', 'o', 'u', 'l', 'd', 'n', \"'\", 't', '', 'h', 'e', 'l', 'p', '', 'b', 'u', 't', '', 'n', 'o', 't', 'i', 'c', 'e', '', 't', 'h', 'e', '', 'v', 'i', 'b', 'r', 'a', 'n', 't', '', 'c', 'o', 'l', 'o', 'r', 's', '', 't', 'h', 'a', 't', '', 's', 'u', 'r', 'r', 'o', 'u', 'n', 'd', 'e', 'd', '', 'h', 'e', 'r', '.', '', 't', 'h', 'e', '', 'l', 'e', 'a', 'v', 'e', 's', '', 'w', 'e', 'r', 'e', '', 'a', '', 'm', 'i', 'x', 't', 'u', 'r', 'e', '', 'o', 'f', '', 'd', 'a', 'z', 'z', 'l', 'i', 'n', 'g', '', 'g', 'r', 'e', 'e', 'n', 's', ',', '', 'o', 'r', 'a', 'n', 'g', 'e', 's', ',', '', 'a', 'n', 'd', '', 'p', 'u', 'r', 'p', 'l', 'e', 's', ',', '', 'a', 'n', 'd', '', 't', 'h', 'e', '', 'a', 'i', 'r', '', 'w', 'a', 's', '', 'f', 'i', 'l', 'l', 'e', 'd', '', 'w', 'i', 't', 'h', '', 't', 'h', 'e', '', 's', 'w', 'e', 'e', 't', '', 's', 'c', 'e', 'n', 't', '', 'o', 'f', '', 'w', 'i', 'l', 'd', 'f', 'l', 'o', 'w', 'e', 'r', 's', '.', '', 't', 'h', 'e', '', 'f', 'o', 'r', 'e', 's', 't', '', 's', 'e', 'e', 'm', 'e', 'd', '', 't', 'o', '', 'c', 'o', 'm', 'e', '', 'a', 'l', 'i', 'v', 'e', '', 'w', 'i', 't', 'h', '', 'e', 'v', 'e', 'r', 'y', '', 's', 't', 'e', 'p', '', 's', 'h', 'e', '', 't', 'o', 'o', 'k', '.', 's', 'u', 'd', 'd', 'e', 'n', 'l', 'y', ',', '', 'l', 'i', 'l', 'y', '', 'h', 'e', 'a', 'r', 'd', '', 'a', '', 'r', 'u', 's', 't', 'l', 'i', 'n', 'g', '', 's', 'o', 'u', 'n', 'd', '', 'c', 'o', 'm', 'i', 'n', 'g', '', 'f', 'r', 'o', 'm', '', 'b', 'e', 'h', 'i', 'n', 'd', '', 'a', '', 'g', 'i', 'g', 'a', 'n', 't', 'i', 'c', '', 't', 'r', 'e', 'e', '', 't', 'r', 'u', 'n', 'k', '.', '', 's', 'h', 'e', '', 'c', 'a', 'u', 't', 'i', 'o', 'u', 's', 'l', 'y', '', 'a', 'p', 'p', 'r', 'o', 'a', 'c', 'h', 'e', 'd', '', 'i', 't', '', 'a', 'n', 'd', '', 'p', 'e', 'e', 'k', 'e', 'd', '', 'a', 'r', 'o', 'u', 'n', 'd', '', 't', 'o', '', 's', 'e', 'e', '', 'w', 'h', 'a', 't', '', 'w', 'a', 's', '', 'c', 'a', 'u', 's', 'i', 'n', 'g', '', 't', 'h', 'e', '', 'n', 'o', 'i', 's', 'e', '.', '', 't', 'o', '', 'h', 'e', 'r', '', 'a', 's', 't', 'o', 'n', 'i', 's', 'h', 'm', 'e', 'n', 't', ',', '', 's', 'h', 'e', '', 'd', 'i', 's', 'c', 'o', 'v', 'e', 'r', 'e', 'd', '', 'a', '', 'f', 'r', 'i', 'e', 'n', 'd', 'l', 'y', '', 'g', 'i', 'a', 'n', 't', '', 'n', 'a', 'm', 'e', 'd', '', 'o', 'l', 'i', 'v', 'e', 'r', '.', 'c', 'h', 'a', 'p', 't', 'e', 'r', '', '2', ':', '', 'm', 'e', 'e', 't', 'i', 'n', 'g', '', 'o', 'l', 'i', 'v', 'e', 'r', 'o', 'l', 'i', 'v', 'e', 'r', '', 'w', 'a', 's', '', 't', 'a', 'l', 'l', '', 'a', 'n', 'd', '', 'h', 'a', 'd', '', 'a', '', 'k', 'i', 'n', 'd', '', 's', 'm', 'i', 'l', 'e', '', 't', 'h', 'a', 't', '', 's', 't', 'r', 'e', 't', 'c', 'h', 'e', 'd', '', 'f', 'r', 'o', 'm', '', 'e', 'a', 'r', '', 't', 'o', '', 'e', 'a', 'r', '.', '', 'h', 'i', 's', '', 'e', 'y', 'e', 's', '', 's', 'p', 'a', 'r', 'k', 'l', 'e', 'd', '', 'l', 'i', 'k', 'e', '', 'e', 'm', 'e', 'r', 'a', 'l', 'd', 's', ',', '', 'a', 'n', 'd', '', 'h', 'i', 's', '', 'l', 'o', 'n', 'g', ',', '', 'f', 'l', 'o', 'w', 'i', 'n', 'g', '', 'b', 'e', 'a', 'r', 'd', '', 's', 'e', 'e', 'm', 'e', 'd', '', 't', 'o', '', 'b', 'e', '', 'm', 'a', 'd', 'e', '', 'o', 'f', '', 'g', 'o', 'l', 'd', 'e', 'n', '', 't', 'h', 'r', 'e', 'a', 'd', 's', '.', '', 'l', 'i', 'l', 'y', \"'\", 's', '', 'h', 'e', 'a', 'r', 't', '', 's', 'k', 'i', 'p', 'p', 'e', 'd', '', 'a', '', 'b', 'e', 'a', 't', '', 'a', 's', '', 's', 'h', 'e', '', 'g', 'a', 'z', 'e', 'd', '', 'u', 'p', '', 'a', 't', '', 'h', 'i', 'm', '.', '«', '', 'h', 'e', 'l', 'l', 'o', ',', '', 'l', 'i', 't', 't', 'l', 'e', '', 'o', 'n', 'e', ',', '', '»', '', 'o', 'l', 'i', 'v', 'e', 'r', '', 'b', 'o', 'o', 'm', 'e', 'd', '', 'w', 'i', 't', 'h', '', 'h', 'i', 's', '', 'd', 'e', 'e', 'p', ',', '', 'r', 'u', 'm', 'b', 'l', 'i', 'n', 'g', '', 'v', 'o', 'i', 'c', 'e', '.', '', '«', '', 'w', 'h', 'a', 't', '', 'b', 'r', 'i', 'n', 'g', 's', '', 'y', 'o', 'u', '', 't', 'o', '', 't', 'h', 'e', '', 'e', 'n', 'c', 'h', 'a', 'n', 't', 'e', 'd', '', 'f', 'o', 'r', 'e', 's', 't', '?', '', '»', 'l', 'i', 'l', 'y', ',', '', 'w', 'i', 't', 'h', '', 'w', 'i', 'd', 'e', '', 'e', 'y', 'e', 's', ',', '', 'r', 'e', 'p', 'l', 'i', 'e', 'd', ',', '', '«', '', 'i', '', 'l', 'o', 'v', 'e', '', 'e', 'x', 'p', 'l', 'o', 'r', 'i', 'n', 'g', '', 'n', 'e', 'w', '', 'p', 'l', 'a', 'c', 'e', 's', ',', '', 'a', 'n', 'd', '', 't', 'h', 'i', 's', '', 'f', 'o', 'r', 'e', 's', 't', '', 'l', 'o', 'o', 'k', 'e', 'd', '', 't', 'o', 'o', '', 'm', 'a', 'g', 'i', 'c', 'a', 'l', '', 't', 'o', '', 'r', 'e', 's', 'i', 's', 't', '.', '', 'w', 'h', 'o', '', 'a', 'r', 'e', '', 'y', 'o', 'u', '?', '', '»', '«', '', 'i', '', 'a', 'm', '', 'o', 'l', 'i', 'v', 'e', 'r', ',', '', 't', 'h', 'e', '', 'g', 'e', 'n', 't', 'l', 'e', '', 'g', 'i', 'a', 'n', 't', '', 'o', 'f', '', 't', 'h', 'e', 's', 'e', '', 'w', 'o', 'o', 'd', 's', ',', '', '»', '', 'h', 'e', '', 's', 'a', 'i', 'd', '', 'w', 'i', 't', 'h', '', 'p', 'r', 'i', 'd', 'e', '.', '', '«', '', 'w', 'o', 'u', 'l', 'd', '', 'y', 'o', 'u', '', 'l', 'i', 'k', 'e', '', 'm', 'e', '', 't', 'o', '', 's', 'h', 'o', 'w', '', 'y', 'o', 'u', '', 'a', 'r', 'o', 'u', 'n', 'd', '?', '', 't', 'h', 'e', 'r', 'e', '', 'a', 'r', 'e', '', 's', 'o', '', 'm', 'a', 'n', 'y', '', 'w', 'o', 'n', 'd', 'e', 'r', 's', '', 'w', 'a', 'i', 't', 'i', 'n', 'g', '', 't', 'o', '', 'b', 'e', '', 'd', 'i', 's', 'c', 'o', 'v', 'e', 'r', 'e', 'd', '.', '', '»', 'l', 'i', 'l', 'y', \"'\", 's', '', 'f', 'a', 'c', 'e', '', 'l', 'i', 't', '', 'u', 'p', '', 'w', 'i', 't', 'h', '', 'e', 'x', 'c', 'i', 't', 'e', 'm', 'e', 'n', 't', ',', '', 'a', 'n', 'd', '', 's', 'h', 'e', '', 'e', 'a', 'g', 'e', 'r', 'l', 'y', '', 'a', 'c', 'c', 'e', 'p', 't', 'e', 'd', '', 'o', 'l', 'i', 'v', 'e', 'r', \"'\", 's', '', 'k', 'i', 'n', 'd', '', 'o', 'f', 'f', 'e', 'r', '.', '', 't', 'o', 'g', 'e', 't', 'h', 'e', 'r', ',', '', 't', 'h', 'e', 'y', '', 'e', 'm', 'b', 'a', 'r', 'k', 'e', 'd', '', 'o', 'n', '', 'a', 'n', '', 'e', 'x', 't', 'r', 'a', 'o', 'r', 'd', 'i', 'n', 'a', 'r', 'y', '', 'a', 'd', 'v', 'e', 'n', 't', 'u', 'r', 'e', '', 't', 'h', 'r', 'o', 'u', 'g', 'h', '', 't', 'h', 'e', '', 'e', 'n', 'c', 'h', 'a', 'n', 't', 'e', 'd', '', 'f', 'o', 'r', 'e', 's', 't', '.', 'c', 'h', 'a', 'p', 't', 'e', 'r', '', '3', ':', '', 'u', 'n', 'c', 'o', 'v', 'e', 'r', 'i', 'n', 'g', '', 's', 'e', 'c', 'r', 'e', 't', 's', 'a', 's', '', 't', 'h', 'e', 'y', '', 'w', 'a', 'n', 'd', 'e', 'r', 'e', 'd', '', 'd', 'e', 'e', 'p', 'e', 'r', '', 'i', 'n', 't', 'o', '', 't', 'h', 'e', '', 'f', 'o', 'r', 'e', 's', 't', ',', '', 'l', 'i', 'l', 'y', '', 'a', 'n', 'd', '', 'o', 'l', 'i', 'v', 'e', 'r', '', 's', 't', 'u', 'm', 'b', 'l', 'e', 'd', '', 'u', 'p', 'o', 'n', '', 'a', '', 's', 'p', 'a', 'r', 'k', 'l', 'i', 'n', 'g', '', 'p', 'o', 'n', 'd', '.', '', 'i', 't', 's', '', 'w', 'a', 't', 'e', 'r', '', 'w', 'a', 's', '', 's', 'o', '', 'c', 'l', 'e', 'a', 'r', '', 't', 'h', 'a', 't', '', 'l', 'i', 'l', 'y', '', 'c', 'o', 'u', 'l', 'd', '', 's', 'e', 'e', '', 'h', 'e', 'r', '', 'r', 'e', 'f', 'l', 'e', 'c', 't', 'i', 'o', 'n', '', 'p', 'e', 'r', 'f', 'e', 'c', 't', 'l', 'y', '.', '', 's', 'u', 'd', 'd', 'e', 'n', 'l', 'y', ',', '', 'a', '', 's', 'h', 'i', 'm', 'm', 'e', 'r', 'i', 'n', 'g', '', 'c', 'r', 'e', 'a', 't', 'u', 'r', 'e', '', 'e', 'm', 'e', 'r', 'g', 'e', 'd', '', 'f', 'r', 'o', 'm', '', 't', 'h', 'e', '', 'd', 'e', 'p', 't', 'h', 's', '', 'o', 'f', '', 't', 'h', 'e', '', 'p', 'o', 'n', 'd', '.', '', 'i', 't', '', 'w', 'a', 's', '', 'a', '', 'w', 'a', 't', 'e', 'r', '', 'n', 'y', 'm', 'p', 'h', '', 'n', 'a', 'm', 'e', 'd', '', 'c', 'r', 'y', 's', 't', 'a', 'l', '.', 'c', 'r', 'y', 's', 't', 'a', 'l', '', 'h', 'a', 'd', '', 'r', 'a', 'd', 'i', 'a', 'n', 't', '', 'b', 'l', 'u', 'e', '', 'h', 'a', 'i', 'r', '', 't', 'h', 'a', 't', '', 'f', 'l', 'o', 'w', 'e', 'd', '', 'd', 'o', 'w', 'n', '', 'h', 'e', 'r', '', 'b', 'a', 'c', 'k', '', 'l', 'i', 'k', 'e', '', 'a', '', 'w', 'a', 't', 'e', 'r', 'f', 'a', 'l', 'l', '.', '', 'h', 'e', 'r', '', 'd', 'e', 'l', 'i', 'c', 'a', 't', 'e', '', 'w', 'i', 'n', 'g', 's', '', 's', 'h', 'i', 'm', 'm', 'e', 'r', 'e', 'd', '', 'i', 'n', '', 't', 'h', 'e', '', 's', 'u', 'n', 'l', 'i', 'g', 'h', 't', ',', '', 'a', 'n', 'd', '', 'l', 'i', 'l', 'y', '', 'c', 'o', 'u', 'l', 'd', 'n', \"'\", 't', '', 'h', 'e', 'l', 'p', '', 'b', 'u', 't', '', 'b', 'e', '', 'c', 'a', 'p', 't', 'i', 'v', 'a', 't', 'e', 'd', '', 'b', 'y', '', 'h', 'e', 'r', '', 'b', 'e', 'a', 'u', 't', 'y', '.', '«', '', 'w', 'e', 'l', 'c', 'o', 'm', 'e', '', 't', 'o', '', 'm', 'y', '', 'h', 'o', 'm', 'e', ',', '', 'l', 'i', 't', 't', 'l', 'e', '', 'o', 'n', 'e', 's', ',', '', '»', '', 'c', 'r', 'y', 's', 't', 'a', 'l', '', 'c', 'h', 'i', 'm', 'e', 'd', '', 'm', 'e', 'l', 'o', 'd', 'i', 'c', 'a', 'l', 'l', 'y', '.', '', '«', '', 'a', 'r', 'e', '', 'y', 'o', 'u', '', 'r', 'e', 'a', 'd', 'y', '', 't', 'o', '', 'u', 'n', 'c', 'o', 'v', 'e', 'r', '', 't', 'h', 'e', '', 's', 'e', 'c', 'r', 'e', 't', 's', '', 'o', 'f', '', 't', 'h', 'i', 's', '', 'm', 'a', 'g', 'i', 'c', 'a', 'l', '', 'f', 'o', 'r', 'e', 's', 't', '?', '', '»', 'l', 'i', 'l', 'y', '', 'n', 'o', 'd', 'd', 'e', 'd', '', 'e', 'n', 't', 'h', 'u', 's', 'i', 'a', 's', 't', 'i', 'c', 'a', 'l', 'l', 'y', ',', '', 'a', 'n', 'd', '', 'o', 'l', 'i', 'v', 'e', 'r', '', 's', 'm', 'i', 'l', 'e', 'd', '', 'w', 'a', 'r', 'm', 'l', 'y', '.', '', 'c', 'r', 'y', 's', 't', 'a', 'l', '', 'l', 'e', 'd', '', 't', 'h', 'e', 'm', '', 't', 'o', '', 'a', '', 'h', 'i', 'd', 'd', 'e', 'n', '', 'g', 'r', 'o', 'v', 'e', '', 'w', 'h', 'e', 'r', 'e', '', 't', 'h', 'e', '', 't', 'r', 'e', 'e', 's', '', 'w', 'h', 'i', 's', 'p', 'e', 'r', 'e', 'd', '', 'a', 'n', 'c', 'i', 'e', 'n', 't', '', 't', 'a', 'l', 'e', 's', '', 'a', 'n', 'd', '', 't', 'h', 'e', '', 'f', 'l', 'o', 'w', 'e', 'r', 's', '', 's', 'a', 'n', 'g', '', 'e', 'n', 'c', 'h', 'a', 'n', 't', 'i', 'n', 'g', '', 'm', 'e', 'l', 'o', 'd', 'i', 'e', 's', '.', '', 't', 'h', 'e', '', 't', 'r', 'i', 'o', '', 's', 'p', 'e', 'n', 't', '', 'h', 'o', 'u', 'r', 's', '', 'l', 'i', 's', 't', 'e', 'n', 'i', 'n', 'g', '', 't', 'o', '', 't', 'h', 'e', '', 's', 't', 'o', 'r', 'i', 'e', 's', '', 'o', 'f', '', 'm', 'y', 's', 't', 'i', 'c', 'a', 'l', '', 'c', 'r', 'e', 'a', 't', 'u', 'r', 'e', 's', '', 'a', 'n', 'd', '', 't', 'h', 'e', 'i', 'r', '', 'e', 'x', 't', 'r', 'a', 'o', 'r', 'd', 'i', 'n', 'a', 'r', 'y', '', 'a', 'b', 'i', 'l', 'i', 't', 'i', 'e', 's', '.', 'c', 'h', 'a', 'p', 't', 'e', 'r', '', '4', ':', '', 't', 'h', 'e', '', 'j', 'o', 'u', 'r', 'n', 'e', 'y', '', 'w', 'i', 't', 'h', 'i', 'n', 'a', 's', '', 'e', 'v', 'e', 'n', 'i', 'n', 'g', '', 'a', 'p', 'p', 'r', 'o', 'a', 'c', 'h', 'e', 'd', ',', '', 'c', 'r', 'y', 's', 't', 'a', 'l', '', 'r', 'e', 'v', 'e', 'a', 'l', 'e', 'd', '', 'a', '', 's', 'e', 'c', 'r', 'e', 't', '', 'p', 'a', 's', 's', 'a', 'g', 'e', '', 't', 'h', 'a', 't', '', 'l', 'e', 'd', '', 't', 'o', '', 'a', '', 'h', 'i', 'd', 'd', 'e', 'n', '', 'c', 'a', 'v', 'e', '.', '', '«', '', 'i', 'n', 's', 'i', 'd', 'e', '', 'l', 'i', 'e', 's', '', 'a', '', 'm', 'y', 's', 't', 'e', 'r', 'i', 'o', 'u', 's', '', 'm', 'i', 'r', 'r', 'o', 'r', ',', '', '»', '', 's', 'h', 'e', '', 'e', 'x', 'p', 'l', 'a', 'i', 'n', 'e', 'd', '.', '', '«', '', 'i', 't', '', 'h', 'a', 's', '', 't', 'h', 'e', '', 'p', 'o', 'w', 'e', 'r', '', 't', 'o', '', 'r', 'e', 'f', 'l', 'e', 'c', 't', '', 't', 'h', 'e', '', 't', 'r', 'u', 'e', '', 'e', 's', 's', 'e', 'n', 'c', 'e', '', 'o', 'f', '', 't', 'h', 'o', 's', 'e', '', 'w', 'h', 'o', '', 'g', 'a', 'z', 'e', '', 'u', 'p', 'o', 'n', '', 'i', 't', '.', '', '»', 'l', 'i', 'l', 'y', \"'\", 's', '', 'c', 'u', 'r', 'i', 'o', 's', 'i', 't', 'y', '', 'p', 'e', 'a', 'k', 'e', 'd', ',', '', 'a', 'n', 'd', '', 's', 'h', 'e', '', 's', 't', 'e', 'p', 'p', 'e', 'd', '', 'c', 'l', 'o', 's', 'e', 'r', '', 't', 'o', '', 't', 'h', 'e', '', 'm', 'i', 'r', 'r', 'o', 'r', '.', '', 'a', 's', '', 's', 'h', 'e', '', 'l', 'o', 'o', 'k', 'e', 'd', '', 'a', 't', '', 'h', 'e', 'r', '', 'r', 'e', 'f', 'l', 'e', 'c', 't', 'i', 'o', 'n', ',', '', 's', 'h', 'e', '', 's', 'a', 'w', '', 'n', 'o', 't', '', 'j', 'u', 's', 't', '', 'h', 'e', 'r', '', 'p', 'h', 'y', 's', 'i', 'c', 'a', 'l', '', 'a', 'p', 'p', 'e', 'a', 'r', 'a', 'n', 'c', 'e', '', 'b', 'u', 't', '', 'a', 'l', 's', 'o', '', 'g', 'l', 'i', 'm', 'p', 's', 'e', 's', '', 'o', 'f', '', 'h', 'e', 'r', '', 'd', 'r', 'e', 'a', 'm', 's', ',', '', 'h', 'o', 'p', 'e', 's', ',', '', 'a', 'n', 'd', '', 'f', 'e', 'a', 'r', 's', '.', '', 't', 'h', 'e', '', 'm', 'i', 'r', 'r', 'o', 'r', '', 'r', 'e', 'v', 'e', 'a', 'l', 'e', 'd', '', 't', 'h', 'e', '', 'd', 'e', 'p', 't', 'h', 's', '', 'o', 'f', '', 'h', 'e', 'r', '', 'o', 'w', 'n', '', 'u', 'n', 'i', 'q', 'u', 'e', '', 's', 'p', 'i', 'r', 'i', 't', '.', 'o', 'l', 'i', 'v', 'e', 'r', '', 'a', 'n', 'd', '', 'c', 'r', 'y', 's', 't', 'a', 'l', '', 'w', 'a', 't', 'c', 'h', 'e', 'd', '', 'w', 'i', 't', 'h', '', 'k', 'n', 'o', 'w', 'i', 'n', 'g', '', 's', 'm', 'i', 'l', 'e', 's', ',', '', 'f', 'o', 'r', '', 't', 'h', 'e', 'y', '', 'h', 'a', 'd', '', 'w', 'i', 't', 'n', 'e', 's', 's', 'e', 'd', '', 't', 'h', 'e', '', 't', 'r', 'a', 'n', 's', 'f', 'o', 'r', 'm', 'a', 't', 'i', 'v', 'e', '', 'p', 'o', 'w', 'e', 'r', '', 'o', 'f', '', 't', 'h', 'e', '', 'm', 'i', 'r', 'r', 'o', 'r', '', 'm', 'a', 'n', 'y', '', 't', 'i', 'm', 'e', 's', '', 'b', 'e', 'f', 'o', 'r', 'e', '.', '', 'l', 'i', 'l', 'y', '', 'f', 'e', 'l', 't', '', 'a', '', 'n', 'e', 'w', 'f', 'o', 'u', 'n', 'd', '', 's', 'e', 'n', 's', 'e', '', 'o', 'f', '', 's', 'e', 'l', 'f', '-', 'b', 'e', 'l', 'i', 'e', 'f', '', 'a', 'n', 'd', '', 'w', 'o', 'n', 'd', 'e', 'r', '', 't', 'h', 'a', 't', '', 'w', 'o', 'u', 'l', 'd', '', 's', 't', 'a', 'y', '', 'w', 'i', 't', 'h', '', 'h', 'e', 'r', '', 'f', 'o', 'r', 'e', 'v', 'e', 'r', '.', 'c', 'h', 'a', 'p', 't', 'e', 'r', '', '5', ':', '', 'a', '', 'g', 'r', 'a', 't', 'e', 'f', 'u', 'l', '', 'g', 'o', 'o', 'd', 'b', 'y', 'e', 'a', 'f', 't', 'e', 'r', '', 't', 'h', 'e', 'i', 'r', '', 'i', 'n', 'c', 'r', 'e', 'd', 'i', 'b', 'l', 'e', '', 'j', 'o', 'u', 'r', 'n', 'e', 'y', ',', '', 'i', 't', '', 'w', 'a', 's', '', 't', 'i', 'm', 'e', '', 't', 'o', '', 'b', 'i', 'd', '', 'f', 'a', 'r', 'e', 'w', 'e', 'l', 'l', '.', '', 'l', 'i', 'l', 'y', '', 'h', 'u', 'g', 'g', 'e', 'd', '', 'o', 'l', 'i', 'v', 'e', 'r', '', 't', 'i', 'g', 'h', 't', 'l', 'y', ',', '', 'g', 'r', 'a', 't', 'e', 'f', 'u', 'l', '', 'f', 'o', 'r', '', 't', 'h', 'e', 'i', 'r', '', 'n', 'e', 'w', 'f', 'o', 'u', 'n', 'd', '', 'f', 'r', 'i', 'e', 'n', 'd', 's', 'h', 'i', 'p', '.', '', 'c', 'r', 'y', 's', 't', 'a', 'l', '', 'b', 'e', 's', 't', 'o', 'w', 'e', 'd', '', 'a', '', 's', 'm', 'a', 'l', 'l', '', 'c', 'r', 'y', 's', 't', 'a', 'l', '', 'p', 'e', 'n', 'd', 'a', 'n', 't', '', 'u', 'p', 'o', 'n', '', 'h', 'e', 'r', ',', '', 'a', '', 't', 'o', 'k', 'e', 'n', '', 'o', 'f', '', 't', 'h', 'e', 'i', 'r', '', 'm', 'a', 'g', 'i', 'c', 'a', 'l', '', 'e', 'n', 'c', 'o', 'u', 'n', 't', 'e', 'r', '.', 'a', 's', '', 'l', 'i', 'l', 'y', '', 's', 't', 'e', 'p', 'p', 'e', 'd', '', 'o', 'u', 't', '', 'o', 'f', '', 't', 'h', 'e', '', 'e', 'n', 'c', 'h', 'a', 'n', 't', 'e', 'd', '', 'f', 'o', 'r', 'e', 's', 't', ',', '', 's', 'h', 'e', '', 'c', 'o', 'u', 'l', 'd', 'n', \"'\", 't', '', 'h', 'e', 'l', 'p', '', 'b', 'u', 't', '', 'f', 'e', 'e', 'l', '', 'a', '', 's', 'e', 'n', 's', 'e', '', 'o', 'f', '', 'j', 'o', 'y', '', 'a', 'n', 'd', '', 'w', 'o', 'n', 'd', 'e', 'r', '', 'b', 'u', 'b', 'b', 'l', 'i', 'n', 'g', '', 'w', 'i', 't', 'h', 'i', 'n', '', 'h', 'e', 'r', '.', '', 's', 'h', 'e', '', 'h', 'a', 'd', '', 'd', 'i', 's', 'c', 'o', 'v', 'e', 'r', 'e', 'd', '', 't', 'h', 'e', '', 'b', 'e', 'a', 'u', 't', 'y', '', 'o', 'f', '', 'n', 'a', 't', 'u', 'r', 'e', ',', '', 't', 'h', 'e', '', 'p', 'o', 'w', 'e', 'r', '', 'o', 'f', '', 'f', 'r', 'i', 'e', 'n', 'd', 's', 'h', 'i', 'p', ',', '', 'a', 'n', 'd', '', 'm', 'o', 's', 't', '', 'i', 'm', 'p', 'o', 'r', 't', 'a', 'n', 't', 'l', 'y', ',', '', 't', 'h', 'e', '', 'm', 'a', 'g', 'i', 'c', '', 't', 'h', 'a', 't', '', 'r', 'e', 's', 'i', 'd', 'e', 'd', '', 'w', 'i', 't', 'h', 'i', 'n', '', 'h', 'e', 'r', '', 'o', 'w', 'n', '', 'h', 'e', 'a', 'r', 't', '.', 'a', 'n', 'd', '', 's', 'o', ',', '', 'a', 's', '', 't', 'h', 'e', '', 's', 'u', 'n', '', 'd', 'i', 'p', 'p', 'e', 'd', '', 'b', 'e', 'l', 'o', 'w', '', 't', 'h', 'e', '', 'h', 'o', 'r', 'i', 'z', 'o', 'n', '', 'a', 'n', 'd', '', 't', 'h', 'e', '', 's', 't', 'a', 'r', 's', '', 't', 'w', 'i', 'n', 'k', 'l', 'e', 'd', '', 'i', 'n', '', 't', 'h', 'e', '', 'n', 'i', 'g', 'h', 't', '', 's', 'k', 'y', ',', '', 'l', 'i', 'l', 'y', '', 'c', 'a', 'r', 'r', 'i', 'e', 'd', '', 't', 'h', 'e', '', 'e', 'n', 'c', 'h', 'a', 'n', 't', 'm', 'e', 'n', 't', '', 'o', 'f', '', 't', 'h', 'e', '', 'e', 'n', 'c', 'h', 'a', 'n', 't', 'e', 'd', '', 'f', 'o', 'r', 'e', 's', 't', '', 'w', 'i', 't', 'h', '', 'h', 'e', 'r', ',', '', 'f', 'o', 'r', 'e', 'v', 'e', 'r', '', 'g', 'r', 'a', 't', 'e', 'f', 'u', 'l', '', 'f', 'o', 'r', '', 't', 'h', 'e', '', 'j', 'o', 'u', 'r', 'n', 'e', 'y', '', 'o', 'f', '', 's', 'e', 'l', 'f', '-', 'd', 'i', 's', 'c', 'o', 'v', 'e', 'r', 'y', '', 's', 'h', 'e', '', 'h', 'a', 'd', '', 'e', 'm', 'b', 'a', 'r', 'k', 'e', 'd', '', 'u', 'p', 'o', 'n', '.', 't', 'h', 'e', '', 'q', 'u', 'i', 'z', ':', '', 'd', 'i', 'd', '', 'y', 'o', 'u', '', 'u', 'n', 'd', 'e', 'r', 's', 't', 'a', 'n', 'd', '', 't', 'h', 'e', '', 's', 't', 'o', 'r', 'y', '', 'w', 'e', 'l', 'l', '?', 'w', 'h', 'a', 't', '', 'i', 's', '', 't', 'h', 'e', '', 'n', 'a', 'm', 'e', '', 'o', 'f', '', 't', 'h', 'e', '', 'l', 'i', 't', 't', 'l', 'e', '', 'g', 'i', 'r', 'l', '', 'i', 'n', '', 't', 'h', 'e', '', 's', 't', 'o', 'r', 'y', '?', 'l', 'i', 'l', 'y', 'o', 'l', 'i', 'v', 'e', 'r', 'c', 'r', 'y', 's', 't', 'a', 'l', 'e', 'm', 'm', 'a', 'w', 'h', 'o', '', 'd', 'i', 'd', '', 'l', 'i', 'l', 'y', '', 'm', 'e', 'e', 't', '', 'i', 'n', '', 't', 'h', 'e', '', 'e', 'n', 'c', 'h', 'a', 'n', 't', 'e', 'd', '', 'f', 'o', 'r', 'e', 's', 't', '?', 'o', 'l', 'i', 'v', 'e', 'r', 'c', 'r', 'y', 's', 't', 'a', 'l', 'e', 'm', 'm', 'a', 'n', 'o', 'n', 'e', '', 'o', 'f', '', 't', 'h', 'e', '', 'a', 'b', 'o', 'v', 'e', 'w', 'h', 'a', 't', '', 'd', 'i', 'd', '', 'c', 'r', 'y', 's', 't', 'a', 'l', '', 'g', 'i', 'v', 'e', '', 't', 'o', '', 'l', 'i', 'l', 'y', '', 'a', 's', '', 'a', '', 't', 'o', 'k', 'e', 'n', '', 'o', 'f', '', 't', 'h', 'e', 'i', 'r', '', 'e', 'n', 'c', 'o', 'u', 'n', 't', 'e', 'r', '?', 'a', '', 'c', 'r', 'y', 's', 't', 'a', 'l', '', 'p', 'e', 'n', 'd', 'a', 'n', 't', 'a', '', 'm', 'a', 'g', 'i', 'c', 'a', 'l', '', 'w', 'a', 'n', 'd', 'a', '', 'g', 'o', 'l', 'd', 'e', 'n', '', 'c', 'r', 'o', 'w', 'n', 'a', '', 's', 'e', 'c', 'r', 'e', 't', '', 'm', 'a', 'p', 'w', 'h', 'e', 'r', 'e', '', 'd', 'i', 'd', '', 'l', 'i', 'l', 'y', '', 'a', 'n', 'd', '', 'o', 'l', 'i', 'v', 'e', 'r', '', 'd', 'i', 's', 'c', 'o', 'v', 'e', 'r', '', 'a', '', 's', 'p', 'a', 'r', 'k', 'l', 'i', 'n', 'g', '', 'p', 'o', 'n', 'd', '?', 'i', 'n', '', 't', 'h', 'e', '', 'e', 'n', 'c', 'h', 'a', 'n', 't', 'e', 'd', '', 'f', 'o', 'r', 'e', 's', 't', 'i', 'n', '', 't', 'h', 'e', '', 'h', 'i', 'd', 'd', 'e', 'n', '', 'c', 'a', 'v', 'e', 'i', 'n', '', 't', 'h', 'e', '', 'm', 'e', 'a', 'd', 'o', 'w', 'i', 'n', '', 't', 'h', 'e', '', 'm', 'a', 'g', 'i', 'c', 'a', 'l', '', 'c', 'a', 's', 't', 'l', 'e', 'w', 'h', 'a', 't', '', 'd', 'i', 'd', '', 'l', 'i', 'l', 'y', '', 's', 'e', 'e', '', 'w', 'h', 'e', 'n', '', 's', 'h', 'e', '', 'l', 'o', 'o', 'k', 'e', 'd', '', 'i', 'n', 't', 'o', '', 't', 'h', 'e', '', 'm', 'a', 'g', 'i', 'c', 'a', 'l', '', 'm', 'i', 'r', 'r', 'o', 'r', '?', 'h', 'e', 'r', '', 't', 'r', 'u', 'e', '', 'e', 's', 's', 'e', 'n', 'c', 'e', 'h', 'e', 'r', '', 'p', 'h', 'y', 's', 'i', 'c', 'a', 'l', '', 'a', 'p', 'p', 'e', 'a', 'r', 'a', 'n', 'c', 'e', 'h', 'e', 'r', '', 'd', 'r', 'e', 'a', 'm', 's', '', 'a', 'n', 'd', '', 'h', 'o', 'p', 'e', 's', 'a', 'l', 'l', '', 'o', 'f', '', 't', 'h', 'e', '', 'a', 'b', 'o', 'v', 'e', 'c', 'o', 'r', 'r', 'e', 'c', 't', '', 'a', 'n', 's', 'w', 'e', 'r', 's', ':', '1', ')', '', 'l', 'i', 'l', 'y', '', '2', ')', '', 'o', 'l', 'i', 'v', 'e', 'r', '', '3', ')', '', 'a', '', 'c', 'r', 'y', 's', 't', 'a', 'l', '', 'p', 'e', 'n', 'd', 'a', 'n', 't', '', '4', ')', '', 'i', 'n', '', 't', 'h', 'e', '', 'e', 'n', 'c', 'h', 'a', 'n', 't', 'e', 'd', '', 'f', 'o', 'r', 'e', 's', 't', '', '5', ')', '', 'a', 'l', 'l', '', 'o', 'f', '', 't', 'h', 'e', '', 'a', 'b', 'o', 'v', 'e', 'g', 'l', 'o', 's', 's', 'a', 'r', 'y', ':', '', 'c', 'o', 'm', 'p', 'l', 'i', 'c', 'a', 't', 'e', 'd', '', 'w', 'o', 'r', 'd', 's', '', 'i', 'n', '', 't', 'h', 'e', '', 's', 't', 'o', 'r', 'y', 'v', 'e', 'n', 't', 'u', 'r', 'e', ':', '', 't', 'o', '', 'g', 'o', '', 's', 'o', 'm', 'e', 'w', 'h', 'e', 'r', 'e', '', 't', 'h', 'a', 't', '', 'i', 's', '', 'u', 'n', 'k', 'n', 'o', 'w', 'n', '', 'o', 'r', '', 'd', 'a', 'n', 'g', 'e', 'r', 'o', 'u', 's', 'v', 'i', 'b', 'r', 'a', 'n', 't', ':', '', 'b', 'r', 'i', 'g', 'h', 't', '', 'a', 'n', 'd', '', 'f', 'u', 'l', 'l', '', 'o', 'f', '', 'l', 'i', 'f', 'e', 'g', 'i', 'g', 'a', 'n', 't', 'i', 'c', ':', '', 'e', 'x', 't', 'r', 'e', 'm', 'e', 'l', 'y', '', 'l', 'a', 'r', 'g', 'e', 'a', 's', 't', 'o', 'n', 'i', 's', 'h', 'm', 'e', 'n', 't', ':', '', 'a', '', 'f', 'e', 'e', 'l', 'i', 'n', 'g', '', 'o', 'f', '', 'g', 'r', 'e', 'a', 't', '', 's', 'u', 'r', 'p', 'r', 'i', 's', 'e', '', 'o', 'r', '', 'w', 'o', 'n', 'd', 'e', 'r', 'r', 'u', 'm', 'b', 'l', 'i', 'n', 'g', ':', '', 'a', '', 'd', 'e', 'e', 'p', ',', '', 'l', 'o', 'w', '', 's', 'o', 'u', 'n', 'd', 'e', 'a', 'g', 'e', 'r', 'l', 'y', ':', '', 'w', 'i', 't', 'h', '', 'e', 'x', 'c', 'i', 't', 'e', 'm', 'e', 'n', 't', '', 'a', 'n', 'd', '', 'e', 'n', 't', 'h', 'u', 's', 'i', 'a', 's', 'm', 'c', 'a', 'p', 't', 'i', 'v', 'a', 't', 'e', 'd', ':', '', 't', 'o', '', 'b', 'e', '', 'c', 'o', 'm', 'p', 'l', 'e', 't', 'e', 'l', 'y', '', 'f', 'a', 's', 'c', 'i', 'n', 'a', 't', 'e', 'd', '', 'o', 'r', '', 'e', 'n', 'c', 'h', 'a', 'n', 't', 'e', 'd', '', 'b', 'y', '', 's', 'o', 'm', 'e', 't', 'h', 'i', 'n', 'g', 'g', 'r', 'o', 'v', 'e', ':', '', 'a', '', 's', 'm', 'a', 'l', 'l', '', 'g', 'r', 'o', 'u', 'p', '', 'o', 'f', '', 't', 'r', 'e', 'e', 's', 'm', 'e', 'l', 'o', 'd', 'i', 'c', 'a', 'l', 'l', 'y', ':', '', 'i', 'n', '', 'a', '', 'w', 'a', 'y', '', 't', 'h', 'a', 't', '', 'i', 's', '', 's', 'w', 'e', 'e', 't', '', 'a', 'n', 'd', '', 'p', 'l', 'e', 'a', 's', 'a', 'n', 't', '', 't', 'o', '', 'l', 'i', 's', 't', 'e', 'n', '', 't', 'o', '', 'e', 's', 's', 'e', 'n', 'c', 'e', ':', '', 't', 'h', 'e', '', 't', 'r', 'u', 'e', '', 'n', 'a', 't', 'u', 'r', 'e', '', 'o', 'r', '', 'i', 'd', 'e', 'n', 't', 'i', 't', 'y', '', 'o', 'f', '', 's', 'o', 'm', 'e', 't', 'h', 'i', 'n', 'g', '', 't', 'r', 'a', 'n', 's', 'f', 'o', 'r', 'm', 'a', 't', 'i', 'v', 'e', ':', '', 'c', 'a', 'u', 's', 'i', 'n', 'g', '', 'a', '', 's', 'i', 'g', 'n', 'i', 'f', 'i', 'c', 'a', 'n', 't', '', 'c', 'h', 'a', 'n', 'g', 'e', '', 'o', 'r', '', 't', 'r', 'a', 'n', 's', 'f', 'o', 'r', 'm', 'a', 't', 'i', 'o', 'n']\n"
          ]
        }
      ]
    },
    {
      "cell_type": "code",
      "source": [
        "print(\"Lemmatized Sentences:\")\n",
        "print(lemmatized_sentences)"
      ],
      "metadata": {
        "colab": {
          "base_uri": "https://localhost:8080/"
        },
        "id": "-hpiOLw7eSpn",
        "outputId": "e4b36426-dbf6-44ed-8d80-067fb3e3ee36"
      },
      "execution_count": 18,
      "outputs": [
        {
          "output_type": "stream",
          "name": "stdout",
          "text": [
            "Lemmatized Sentences:\n",
            "['T', 'h', 'e', '', 'E', 'n', 'c', 'h', 'a', 'n', 't', 'e', 'd', '', 'F', 'o', 'r', 'e', 's', 't', '', 'A', 'd', 'v', 'e', 'n', 't', 'u', 'r', 'e', 'F', 'a', 'n', 't', 'a', 's', 't', 'i', 'c', '', 's', 't', 'o', 'r', 'y', '', '•', '', '5', '-', '6', '', 'y', 'e', 'a', 'r', 's', '', 'o', 'l', 'd', 'C', 'h', 'a', 'p', 't', 'e', 'r', '', '1', ':', '', 'T', 'h', 'e', '', 'E', 'n', 'c', 'h', 'a', 'n', 't', 'e', 'd', '', 'F', 'o', 'r', 'e', 's', 't', 'O', 'n', 'c', 'e', '', 'u', 'p', 'o', 'n', '', 'a', '', 't', 'i', 'm', 'e', ',', '', 'i', 'n', '', 'a', '', 'm', 'a', 'g', 'i', 'c', 'a', 'l', '', 'l', 'a', 'n', 'd', '', 'f', 'a', 'r', ',', '', 'f', 'a', 'r', '', 'a', 'w', 'a', 'y', ',', '', 't', 'h', 'e', 'r', 'e', '', 'w', 'a', 's', '', 'a', '', 'l', 'i', 't', 't', 'l', 'e', '', 'g', 'i', 'r', 'l', '', 'n', 'a', 'm', 'e', 'd', '', 'L', 'i', 'l', 'y', '.', '', 'S', 'h', 'e', '', 'w', 'a', 's', '', 'a', '', 'c', 'u', 'r', 'i', 'o', 'u', 's', '', 'a', 'n', 'd', '', 'a', 'd', 'v', 'e', 'n', 't', 'u', 'r', 'o', 'u', 's', '', 's', 'i', 'x', '-', 'y', 'e', 'a', 'r', '-', 'o', 'l', 'd', '', 'w', 'h', 'o', '', 'l', 'o', 'v', 'e', 'd', '', 'e', 'x', 'p', 'l', 'o', 'r', 'i', 'n', 'g', '', 't', 'h', 'e', '', 'w', 'o', 'r', 'l', 'd', '', 'a', 'r', 'o', 'u', 'n', 'd', '', 'h', 'e', 'r', '.', '', 'O', 'n', 'e', '', 's', 'u', 'n', 'n', 'y', '', 'm', 'o', 'r', 'n', 'i', 'n', 'g', ',', '', 'L', 'i', 'l', 'y', '', 'd', 'e', 'c', 'i', 'd', 'e', 'd', '', 't', 'o', '', 'v', 'e', 'n', 't', 'u', 'r', 'e', '', 'i', 'n', 't', 'o', '', 't', 'h', 'e', '', 'E', 'n', 'c', 'h', 'a', 'n', 't', 'e', 'd', '', 'F', 'o', 'r', 'e', 's', 't', ',', '', 'a', '', 'p', 'l', 'a', 'c', 'e', '', 'f', 'u', 'l', 'l', '', 'o', 'f', '', 'w', 'o', 'n', 'd', 'e', 'r', '', 'a', 'n', 'd', '', 'm', 'y', 's', 't', 'e', 'r', 'y', '.', 'A', 's', '', 'L', 'i', 'l', 'y', '', 'm', 'a', 'd', 'e', '', 'h', 'e', 'r', '', 'w', 'a', 'y', '', 't', 'h', 'r', 'o', 'u', 'g', 'h', '', 't', 'h', 'e', '', 't', 'a', 'l', 'l', '', 't', 'r', 'e', 'e', 's', ',', '', 's', 'h', 'e', '', 'c', 'o', 'u', 'l', 'd', 'n', \"'\", 't', '', 'h', 'e', 'l', 'p', '', 'b', 'u', 't', '', 'n', 'o', 't', 'i', 'c', 'e', '', 't', 'h', 'e', '', 'v', 'i', 'b', 'r', 'a', 'n', 't', '', 'c', 'o', 'l', 'o', 'r', 's', '', 't', 'h', 'a', 't', '', 's', 'u', 'r', 'r', 'o', 'u', 'n', 'd', 'e', 'd', '', 'h', 'e', 'r', '.', '', 'T', 'h', 'e', '', 'l', 'e', 'a', 'v', 'e', 's', '', 'w', 'e', 'r', 'e', '', 'a', '', 'm', 'i', 'x', 't', 'u', 'r', 'e', '', 'o', 'f', '', 'd', 'a', 'z', 'z', 'l', 'i', 'n', 'g', '', 'g', 'r', 'e', 'e', 'n', 's', ',', '', 'o', 'r', 'a', 'n', 'g', 'e', 's', ',', '', 'a', 'n', 'd', '', 'p', 'u', 'r', 'p', 'l', 'e', 's', ',', '', 'a', 'n', 'd', '', 't', 'h', 'e', '', 'a', 'i', 'r', '', 'w', 'a', 's', '', 'f', 'i', 'l', 'l', 'e', 'd', '', 'w', 'i', 't', 'h', '', 't', 'h', 'e', '', 's', 'w', 'e', 'e', 't', '', 's', 'c', 'e', 'n', 't', '', 'o', 'f', '', 'w', 'i', 'l', 'd', 'f', 'l', 'o', 'w', 'e', 'r', 's', '.', '', 'T', 'h', 'e', '', 'f', 'o', 'r', 'e', 's', 't', '', 's', 'e', 'e', 'm', 'e', 'd', '', 't', 'o', '', 'c', 'o', 'm', 'e', '', 'a', 'l', 'i', 'v', 'e', '', 'w', 'i', 't', 'h', '', 'e', 'v', 'e', 'r', 'y', '', 's', 't', 'e', 'p', '', 's', 'h', 'e', '', 't', 'o', 'o', 'k', '.', 'S', 'u', 'd', 'd', 'e', 'n', 'l', 'y', ',', '', 'L', 'i', 'l', 'y', '', 'h', 'e', 'a', 'r', 'd', '', 'a', '', 'r', 'u', 's', 't', 'l', 'i', 'n', 'g', '', 's', 'o', 'u', 'n', 'd', '', 'c', 'o', 'm', 'i', 'n', 'g', '', 'f', 'r', 'o', 'm', '', 'b', 'e', 'h', 'i', 'n', 'd', '', 'a', '', 'g', 'i', 'g', 'a', 'n', 't', 'i', 'c', '', 't', 'r', 'e', 'e', '', 't', 'r', 'u', 'n', 'k', '.', '', 'S', 'h', 'e', '', 'c', 'a', 'u', 't', 'i', 'o', 'u', 's', 'l', 'y', '', 'a', 'p', 'p', 'r', 'o', 'a', 'c', 'h', 'e', 'd', '', 'i', 't', '', 'a', 'n', 'd', '', 'p', 'e', 'e', 'k', 'e', 'd', '', 'a', 'r', 'o', 'u', 'n', 'd', '', 't', 'o', '', 's', 'e', 'e', '', 'w', 'h', 'a', 't', '', 'w', 'a', 's', '', 'c', 'a', 'u', 's', 'i', 'n', 'g', '', 't', 'h', 'e', '', 'n', 'o', 'i', 's', 'e', '.', '', 'T', 'o', '', 'h', 'e', 'r', '', 'a', 's', 't', 'o', 'n', 'i', 's', 'h', 'm', 'e', 'n', 't', ',', '', 's', 'h', 'e', '', 'd', 'i', 's', 'c', 'o', 'v', 'e', 'r', 'e', 'd', '', 'a', '', 'f', 'r', 'i', 'e', 'n', 'd', 'l', 'y', '', 'g', 'i', 'a', 'n', 't', '', 'n', 'a', 'm', 'e', 'd', '', 'O', 'l', 'i', 'v', 'e', 'r', '.', 'C', 'h', 'a', 'p', 't', 'e', 'r', '', '2', ':', '', 'M', 'e', 'e', 't', 'i', 'n', 'g', '', 'O', 'l', 'i', 'v', 'e', 'r', 'O', 'l', 'i', 'v', 'e', 'r', '', 'w', 'a', 's', '', 't', 'a', 'l', 'l', '', 'a', 'n', 'd', '', 'h', 'a', 'd', '', 'a', '', 'k', 'i', 'n', 'd', '', 's', 'm', 'i', 'l', 'e', '', 't', 'h', 'a', 't', '', 's', 't', 'r', 'e', 't', 'c', 'h', 'e', 'd', '', 'f', 'r', 'o', 'm', '', 'e', 'a', 'r', '', 't', 'o', '', 'e', 'a', 'r', '.', '', 'H', 'i', 's', '', 'e', 'y', 'e', 's', '', 's', 'p', 'a', 'r', 'k', 'l', 'e', 'd', '', 'l', 'i', 'k', 'e', '', 'e', 'm', 'e', 'r', 'a', 'l', 'd', 's', ',', '', 'a', 'n', 'd', '', 'h', 'i', 's', '', 'l', 'o', 'n', 'g', ',', '', 'f', 'l', 'o', 'w', 'i', 'n', 'g', '', 'b', 'e', 'a', 'r', 'd', '', 's', 'e', 'e', 'm', 'e', 'd', '', 't', 'o', '', 'b', 'e', '', 'm', 'a', 'd', 'e', '', 'o', 'f', '', 'g', 'o', 'l', 'd', 'e', 'n', '', 't', 'h', 'r', 'e', 'a', 'd', 's', '.', '', 'L', 'i', 'l', 'y', \"'\", 's', '', 'h', 'e', 'a', 'r', 't', '', 's', 'k', 'i', 'p', 'p', 'e', 'd', '', 'a', '', 'b', 'e', 'a', 't', '', 'a', 's', '', 's', 'h', 'e', '', 'g', 'a', 'z', 'e', 'd', '', 'u', 'p', '', 'a', 't', '', 'h', 'i', 'm', '.', '«', '', 'H', 'e', 'l', 'l', 'o', ',', '', 'l', 'i', 't', 't', 'l', 'e', '', 'o', 'n', 'e', ',', '', '»', '', 'O', 'l', 'i', 'v', 'e', 'r', '', 'b', 'o', 'o', 'm', 'e', 'd', '', 'w', 'i', 't', 'h', '', 'h', 'i', 's', '', 'd', 'e', 'e', 'p', ',', '', 'r', 'u', 'm', 'b', 'l', 'i', 'n', 'g', '', 'v', 'o', 'i', 'c', 'e', '.', '', '«', '', 'W', 'h', 'a', 't', '', 'b', 'r', 'i', 'n', 'g', 's', '', 'y', 'o', 'u', '', 't', 'o', '', 't', 'h', 'e', '', 'E', 'n', 'c', 'h', 'a', 'n', 't', 'e', 'd', '', 'F', 'o', 'r', 'e', 's', 't', '?', '', '»', 'L', 'i', 'l', 'y', ',', '', 'w', 'i', 't', 'h', '', 'w', 'i', 'd', 'e', '', 'e', 'y', 'e', 's', ',', '', 'r', 'e', 'p', 'l', 'i', 'e', 'd', ',', '', '«', '', 'I', '', 'l', 'o', 'v', 'e', '', 'e', 'x', 'p', 'l', 'o', 'r', 'i', 'n', 'g', '', 'n', 'e', 'w', '', 'p', 'l', 'a', 'c', 'e', 's', ',', '', 'a', 'n', 'd', '', 't', 'h', 'i', 's', '', 'f', 'o', 'r', 'e', 's', 't', '', 'l', 'o', 'o', 'k', 'e', 'd', '', 't', 'o', 'o', '', 'm', 'a', 'g', 'i', 'c', 'a', 'l', '', 't', 'o', '', 'r', 'e', 's', 'i', 's', 't', '.', '', 'W', 'h', 'o', '', 'a', 'r', 'e', '', 'y', 'o', 'u', '?', '', '»', '«', '', 'I', '', 'a', 'm', '', 'O', 'l', 'i', 'v', 'e', 'r', ',', '', 't', 'h', 'e', '', 'g', 'e', 'n', 't', 'l', 'e', '', 'g', 'i', 'a', 'n', 't', '', 'o', 'f', '', 't', 'h', 'e', 's', 'e', '', 'w', 'o', 'o', 'd', 's', ',', '', '»', '', 'h', 'e', '', 's', 'a', 'i', 'd', '', 'w', 'i', 't', 'h', '', 'p', 'r', 'i', 'd', 'e', '.', '', '«', '', 'W', 'o', 'u', 'l', 'd', '', 'y', 'o', 'u', '', 'l', 'i', 'k', 'e', '', 'm', 'e', '', 't', 'o', '', 's', 'h', 'o', 'w', '', 'y', 'o', 'u', '', 'a', 'r', 'o', 'u', 'n', 'd', '?', '', 'T', 'h', 'e', 'r', 'e', '', 'a', 'r', 'e', '', 's', 'o', '', 'm', 'a', 'n', 'y', '', 'w', 'o', 'n', 'd', 'e', 'r', 's', '', 'w', 'a', 'i', 't', 'i', 'n', 'g', '', 't', 'o', '', 'b', 'e', '', 'd', 'i', 's', 'c', 'o', 'v', 'e', 'r', 'e', 'd', '.', '', '»', 'L', 'i', 'l', 'y', \"'\", 's', '', 'f', 'a', 'c', 'e', '', 'l', 'i', 't', '', 'u', 'p', '', 'w', 'i', 't', 'h', '', 'e', 'x', 'c', 'i', 't', 'e', 'm', 'e', 'n', 't', ',', '', 'a', 'n', 'd', '', 's', 'h', 'e', '', 'e', 'a', 'g', 'e', 'r', 'l', 'y', '', 'a', 'c', 'c', 'e', 'p', 't', 'e', 'd', '', 'O', 'l', 'i', 'v', 'e', 'r', \"'\", 's', '', 'k', 'i', 'n', 'd', '', 'o', 'f', 'f', 'e', 'r', '.', '', 'T', 'o', 'g', 'e', 't', 'h', 'e', 'r', ',', '', 't', 'h', 'e', 'y', '', 'e', 'm', 'b', 'a', 'r', 'k', 'e', 'd', '', 'o', 'n', '', 'a', 'n', '', 'e', 'x', 't', 'r', 'a', 'o', 'r', 'd', 'i', 'n', 'a', 'r', 'y', '', 'a', 'd', 'v', 'e', 'n', 't', 'u', 'r', 'e', '', 't', 'h', 'r', 'o', 'u', 'g', 'h', '', 't', 'h', 'e', '', 'E', 'n', 'c', 'h', 'a', 'n', 't', 'e', 'd', '', 'F', 'o', 'r', 'e', 's', 't', '.', 'C', 'h', 'a', 'p', 't', 'e', 'r', '', '3', ':', '', 'U', 'n', 'c', 'o', 'v', 'e', 'r', 'i', 'n', 'g', '', 'S', 'e', 'c', 'r', 'e', 't', 's', 'A', 's', '', 't', 'h', 'e', 'y', '', 'w', 'a', 'n', 'd', 'e', 'r', 'e', 'd', '', 'd', 'e', 'e', 'p', 'e', 'r', '', 'i', 'n', 't', 'o', '', 't', 'h', 'e', '', 'f', 'o', 'r', 'e', 's', 't', ',', '', 'L', 'i', 'l', 'y', '', 'a', 'n', 'd', '', 'O', 'l', 'i', 'v', 'e', 'r', '', 's', 't', 'u', 'm', 'b', 'l', 'e', 'd', '', 'u', 'p', 'o', 'n', '', 'a', '', 's', 'p', 'a', 'r', 'k', 'l', 'i', 'n', 'g', '', 'p', 'o', 'n', 'd', '.', '', 'I', 't', 's', '', 'w', 'a', 't', 'e', 'r', '', 'w', 'a', 's', '', 's', 'o', '', 'c', 'l', 'e', 'a', 'r', '', 't', 'h', 'a', 't', '', 'L', 'i', 'l', 'y', '', 'c', 'o', 'u', 'l', 'd', '', 's', 'e', 'e', '', 'h', 'e', 'r', '', 'r', 'e', 'f', 'l', 'e', 'c', 't', 'i', 'o', 'n', '', 'p', 'e', 'r', 'f', 'e', 'c', 't', 'l', 'y', '.', '', 'S', 'u', 'd', 'd', 'e', 'n', 'l', 'y', ',', '', 'a', '', 's', 'h', 'i', 'm', 'm', 'e', 'r', 'i', 'n', 'g', '', 'c', 'r', 'e', 'a', 't', 'u', 'r', 'e', '', 'e', 'm', 'e', 'r', 'g', 'e', 'd', '', 'f', 'r', 'o', 'm', '', 't', 'h', 'e', '', 'd', 'e', 'p', 't', 'h', 's', '', 'o', 'f', '', 't', 'h', 'e', '', 'p', 'o', 'n', 'd', '.', '', 'I', 't', '', 'w', 'a', 's', '', 'a', '', 'w', 'a', 't', 'e', 'r', '', 'n', 'y', 'm', 'p', 'h', '', 'n', 'a', 'm', 'e', 'd', '', 'C', 'r', 'y', 's', 't', 'a', 'l', '.', 'C', 'r', 'y', 's', 't', 'a', 'l', '', 'h', 'a', 'd', '', 'r', 'a', 'd', 'i', 'a', 'n', 't', '', 'b', 'l', 'u', 'e', '', 'h', 'a', 'i', 'r', '', 't', 'h', 'a', 't', '', 'f', 'l', 'o', 'w', 'e', 'd', '', 'd', 'o', 'w', 'n', '', 'h', 'e', 'r', '', 'b', 'a', 'c', 'k', '', 'l', 'i', 'k', 'e', '', 'a', '', 'w', 'a', 't', 'e', 'r', 'f', 'a', 'l', 'l', '.', '', 'H', 'e', 'r', '', 'd', 'e', 'l', 'i', 'c', 'a', 't', 'e', '', 'w', 'i', 'n', 'g', 's', '', 's', 'h', 'i', 'm', 'm', 'e', 'r', 'e', 'd', '', 'i', 'n', '', 't', 'h', 'e', '', 's', 'u', 'n', 'l', 'i', 'g', 'h', 't', ',', '', 'a', 'n', 'd', '', 'L', 'i', 'l', 'y', '', 'c', 'o', 'u', 'l', 'd', 'n', \"'\", 't', '', 'h', 'e', 'l', 'p', '', 'b', 'u', 't', '', 'b', 'e', '', 'c', 'a', 'p', 't', 'i', 'v', 'a', 't', 'e', 'd', '', 'b', 'y', '', 'h', 'e', 'r', '', 'b', 'e', 'a', 'u', 't', 'y', '.', '«', '', 'W', 'e', 'l', 'c', 'o', 'm', 'e', '', 't', 'o', '', 'm', 'y', '', 'h', 'o', 'm', 'e', ',', '', 'l', 'i', 't', 't', 'l', 'e', '', 'o', 'n', 'e', 's', ',', '', '»', '', 'C', 'r', 'y', 's', 't', 'a', 'l', '', 'c', 'h', 'i', 'm', 'e', 'd', '', 'm', 'e', 'l', 'o', 'd', 'i', 'c', 'a', 'l', 'l', 'y', '.', '', '«', '', 'A', 'r', 'e', '', 'y', 'o', 'u', '', 'r', 'e', 'a', 'd', 'y', '', 't', 'o', '', 'u', 'n', 'c', 'o', 'v', 'e', 'r', '', 't', 'h', 'e', '', 's', 'e', 'c', 'r', 'e', 't', 's', '', 'o', 'f', '', 't', 'h', 'i', 's', '', 'm', 'a', 'g', 'i', 'c', 'a', 'l', '', 'f', 'o', 'r', 'e', 's', 't', '?', '', '»', 'L', 'i', 'l', 'y', '', 'n', 'o', 'd', 'd', 'e', 'd', '', 'e', 'n', 't', 'h', 'u', 's', 'i', 'a', 's', 't', 'i', 'c', 'a', 'l', 'l', 'y', ',', '', 'a', 'n', 'd', '', 'O', 'l', 'i', 'v', 'e', 'r', '', 's', 'm', 'i', 'l', 'e', 'd', '', 'w', 'a', 'r', 'm', 'l', 'y', '.', '', 'C', 'r', 'y', 's', 't', 'a', 'l', '', 'l', 'e', 'd', '', 't', 'h', 'e', 'm', '', 't', 'o', '', 'a', '', 'h', 'i', 'd', 'd', 'e', 'n', '', 'g', 'r', 'o', 'v', 'e', '', 'w', 'h', 'e', 'r', 'e', '', 't', 'h', 'e', '', 't', 'r', 'e', 'e', 's', '', 'w', 'h', 'i', 's', 'p', 'e', 'r', 'e', 'd', '', 'a', 'n', 'c', 'i', 'e', 'n', 't', '', 't', 'a', 'l', 'e', 's', '', 'a', 'n', 'd', '', 't', 'h', 'e', '', 'f', 'l', 'o', 'w', 'e', 'r', 's', '', 's', 'a', 'n', 'g', '', 'e', 'n', 'c', 'h', 'a', 'n', 't', 'i', 'n', 'g', '', 'm', 'e', 'l', 'o', 'd', 'i', 'e', 's', '.', '', 'T', 'h', 'e', '', 't', 'r', 'i', 'o', '', 's', 'p', 'e', 'n', 't', '', 'h', 'o', 'u', 'r', 's', '', 'l', 'i', 's', 't', 'e', 'n', 'i', 'n', 'g', '', 't', 'o', '', 't', 'h', 'e', '', 's', 't', 'o', 'r', 'i', 'e', 's', '', 'o', 'f', '', 'm', 'y', 's', 't', 'i', 'c', 'a', 'l', '', 'c', 'r', 'e', 'a', 't', 'u', 'r', 'e', 's', '', 'a', 'n', 'd', '', 't', 'h', 'e', 'i', 'r', '', 'e', 'x', 't', 'r', 'a', 'o', 'r', 'd', 'i', 'n', 'a', 'r', 'y', '', 'a', 'b', 'i', 'l', 'i', 't', 'i', 'e', 's', '.', 'C', 'h', 'a', 'p', 't', 'e', 'r', '', '4', ':', '', 'T', 'h', 'e', '', 'J', 'o', 'u', 'r', 'n', 'e', 'y', '', 'W', 'i', 't', 'h', 'i', 'n', 'A', 's', '', 'e', 'v', 'e', 'n', 'i', 'n', 'g', '', 'a', 'p', 'p', 'r', 'o', 'a', 'c', 'h', 'e', 'd', ',', '', 'C', 'r', 'y', 's', 't', 'a', 'l', '', 'r', 'e', 'v', 'e', 'a', 'l', 'e', 'd', '', 'a', '', 's', 'e', 'c', 'r', 'e', 't', '', 'p', 'a', 's', 's', 'a', 'g', 'e', '', 't', 'h', 'a', 't', '', 'l', 'e', 'd', '', 't', 'o', '', 'a', '', 'h', 'i', 'd', 'd', 'e', 'n', '', 'c', 'a', 'v', 'e', '.', '', '«', '', 'I', 'n', 's', 'i', 'd', 'e', '', 'l', 'i', 'e', 's', '', 'a', '', 'm', 'y', 's', 't', 'e', 'r', 'i', 'o', 'u', 's', '', 'm', 'i', 'r', 'r', 'o', 'r', ',', '', '»', '', 's', 'h', 'e', '', 'e', 'x', 'p', 'l', 'a', 'i', 'n', 'e', 'd', '.', '', '«', '', 'I', 't', '', 'h', 'a', 's', '', 't', 'h', 'e', '', 'p', 'o', 'w', 'e', 'r', '', 't', 'o', '', 'r', 'e', 'f', 'l', 'e', 'c', 't', '', 't', 'h', 'e', '', 't', 'r', 'u', 'e', '', 'e', 's', 's', 'e', 'n', 'c', 'e', '', 'o', 'f', '', 't', 'h', 'o', 's', 'e', '', 'w', 'h', 'o', '', 'g', 'a', 'z', 'e', '', 'u', 'p', 'o', 'n', '', 'i', 't', '.', '', '»', 'L', 'i', 'l', 'y', \"'\", 's', '', 'c', 'u', 'r', 'i', 'o', 's', 'i', 't', 'y', '', 'p', 'e', 'a', 'k', 'e', 'd', ',', '', 'a', 'n', 'd', '', 's', 'h', 'e', '', 's', 't', 'e', 'p', 'p', 'e', 'd', '', 'c', 'l', 'o', 's', 'e', 'r', '', 't', 'o', '', 't', 'h', 'e', '', 'm', 'i', 'r', 'r', 'o', 'r', '.', '', 'A', 's', '', 's', 'h', 'e', '', 'l', 'o', 'o', 'k', 'e', 'd', '', 'a', 't', '', 'h', 'e', 'r', '', 'r', 'e', 'f', 'l', 'e', 'c', 't', 'i', 'o', 'n', ',', '', 's', 'h', 'e', '', 's', 'a', 'w', '', 'n', 'o', 't', '', 'j', 'u', 's', 't', '', 'h', 'e', 'r', '', 'p', 'h', 'y', 's', 'i', 'c', 'a', 'l', '', 'a', 'p', 'p', 'e', 'a', 'r', 'a', 'n', 'c', 'e', '', 'b', 'u', 't', '', 'a', 'l', 's', 'o', '', 'g', 'l', 'i', 'm', 'p', 's', 'e', 's', '', 'o', 'f', '', 'h', 'e', 'r', '', 'd', 'r', 'e', 'a', 'm', 's', ',', '', 'h', 'o', 'p', 'e', 's', ',', '', 'a', 'n', 'd', '', 'f', 'e', 'a', 'r', 's', '.', '', 'T', 'h', 'e', '', 'm', 'i', 'r', 'r', 'o', 'r', '', 'r', 'e', 'v', 'e', 'a', 'l', 'e', 'd', '', 't', 'h', 'e', '', 'd', 'e', 'p', 't', 'h', 's', '', 'o', 'f', '', 'h', 'e', 'r', '', 'o', 'w', 'n', '', 'u', 'n', 'i', 'q', 'u', 'e', '', 's', 'p', 'i', 'r', 'i', 't', '.', 'O', 'l', 'i', 'v', 'e', 'r', '', 'a', 'n', 'd', '', 'C', 'r', 'y', 's', 't', 'a', 'l', '', 'w', 'a', 't', 'c', 'h', 'e', 'd', '', 'w', 'i', 't', 'h', '', 'k', 'n', 'o', 'w', 'i', 'n', 'g', '', 's', 'm', 'i', 'l', 'e', 's', ',', '', 'f', 'o', 'r', '', 't', 'h', 'e', 'y', '', 'h', 'a', 'd', '', 'w', 'i', 't', 'n', 'e', 's', 's', 'e', 'd', '', 't', 'h', 'e', '', 't', 'r', 'a', 'n', 's', 'f', 'o', 'r', 'm', 'a', 't', 'i', 'v', 'e', '', 'p', 'o', 'w', 'e', 'r', '', 'o', 'f', '', 't', 'h', 'e', '', 'm', 'i', 'r', 'r', 'o', 'r', '', 'm', 'a', 'n', 'y', '', 't', 'i', 'm', 'e', 's', '', 'b', 'e', 'f', 'o', 'r', 'e', '.', '', 'L', 'i', 'l', 'y', '', 'f', 'e', 'l', 't', '', 'a', '', 'n', 'e', 'w', 'f', 'o', 'u', 'n', 'd', '', 's', 'e', 'n', 's', 'e', '', 'o', 'f', '', 's', 'e', 'l', 'f', '-', 'b', 'e', 'l', 'i', 'e', 'f', '', 'a', 'n', 'd', '', 'w', 'o', 'n', 'd', 'e', 'r', '', 't', 'h', 'a', 't', '', 'w', 'o', 'u', 'l', 'd', '', 's', 't', 'a', 'y', '', 'w', 'i', 't', 'h', '', 'h', 'e', 'r', '', 'f', 'o', 'r', 'e', 'v', 'e', 'r', '.', 'C', 'h', 'a', 'p', 't', 'e', 'r', '', '5', ':', '', 'A', '', 'G', 'r', 'a', 't', 'e', 'f', 'u', 'l', '', 'G', 'o', 'o', 'd', 'b', 'y', 'e', 'A', 'f', 't', 'e', 'r', '', 't', 'h', 'e', 'i', 'r', '', 'i', 'n', 'c', 'r', 'e', 'd', 'i', 'b', 'l', 'e', '', 'j', 'o', 'u', 'r', 'n', 'e', 'y', ',', '', 'i', 't', '', 'w', 'a', 's', '', 't', 'i', 'm', 'e', '', 't', 'o', '', 'b', 'i', 'd', '', 'f', 'a', 'r', 'e', 'w', 'e', 'l', 'l', '.', '', 'L', 'i', 'l', 'y', '', 'h', 'u', 'g', 'g', 'e', 'd', '', 'O', 'l', 'i', 'v', 'e', 'r', '', 't', 'i', 'g', 'h', 't', 'l', 'y', ',', '', 'g', 'r', 'a', 't', 'e', 'f', 'u', 'l', '', 'f', 'o', 'r', '', 't', 'h', 'e', 'i', 'r', '', 'n', 'e', 'w', 'f', 'o', 'u', 'n', 'd', '', 'f', 'r', 'i', 'e', 'n', 'd', 's', 'h', 'i', 'p', '.', '', 'C', 'r', 'y', 's', 't', 'a', 'l', '', 'b', 'e', 's', 't', 'o', 'w', 'e', 'd', '', 'a', '', 's', 'm', 'a', 'l', 'l', '', 'c', 'r', 'y', 's', 't', 'a', 'l', '', 'p', 'e', 'n', 'd', 'a', 'n', 't', '', 'u', 'p', 'o', 'n', '', 'h', 'e', 'r', ',', '', 'a', '', 't', 'o', 'k', 'e', 'n', '', 'o', 'f', '', 't', 'h', 'e', 'i', 'r', '', 'm', 'a', 'g', 'i', 'c', 'a', 'l', '', 'e', 'n', 'c', 'o', 'u', 'n', 't', 'e', 'r', '.', 'A', 's', '', 'L', 'i', 'l', 'y', '', 's', 't', 'e', 'p', 'p', 'e', 'd', '', 'o', 'u', 't', '', 'o', 'f', '', 't', 'h', 'e', '', 'E', 'n', 'c', 'h', 'a', 'n', 't', 'e', 'd', '', 'F', 'o', 'r', 'e', 's', 't', ',', '', 's', 'h', 'e', '', 'c', 'o', 'u', 'l', 'd', 'n', \"'\", 't', '', 'h', 'e', 'l', 'p', '', 'b', 'u', 't', '', 'f', 'e', 'e', 'l', '', 'a', '', 's', 'e', 'n', 's', 'e', '', 'o', 'f', '', 'j', 'o', 'y', '', 'a', 'n', 'd', '', 'w', 'o', 'n', 'd', 'e', 'r', '', 'b', 'u', 'b', 'b', 'l', 'i', 'n', 'g', '', 'w', 'i', 't', 'h', 'i', 'n', '', 'h', 'e', 'r', '.', '', 'S', 'h', 'e', '', 'h', 'a', 'd', '', 'd', 'i', 's', 'c', 'o', 'v', 'e', 'r', 'e', 'd', '', 't', 'h', 'e', '', 'b', 'e', 'a', 'u', 't', 'y', '', 'o', 'f', '', 'n', 'a', 't', 'u', 'r', 'e', ',', '', 't', 'h', 'e', '', 'p', 'o', 'w', 'e', 'r', '', 'o', 'f', '', 'f', 'r', 'i', 'e', 'n', 'd', 's', 'h', 'i', 'p', ',', '', 'a', 'n', 'd', '', 'm', 'o', 's', 't', '', 'i', 'm', 'p', 'o', 'r', 't', 'a', 'n', 't', 'l', 'y', ',', '', 't', 'h', 'e', '', 'm', 'a', 'g', 'i', 'c', '', 't', 'h', 'a', 't', '', 'r', 'e', 's', 'i', 'd', 'e', 'd', '', 'w', 'i', 't', 'h', 'i', 'n', '', 'h', 'e', 'r', '', 'o', 'w', 'n', '', 'h', 'e', 'a', 'r', 't', '.', 'A', 'n', 'd', '', 's', 'o', ',', '', 'a', 's', '', 't', 'h', 'e', '', 's', 'u', 'n', '', 'd', 'i', 'p', 'p', 'e', 'd', '', 'b', 'e', 'l', 'o', 'w', '', 't', 'h', 'e', '', 'h', 'o', 'r', 'i', 'z', 'o', 'n', '', 'a', 'n', 'd', '', 't', 'h', 'e', '', 's', 't', 'a', 'r', 's', '', 't', 'w', 'i', 'n', 'k', 'l', 'e', 'd', '', 'i', 'n', '', 't', 'h', 'e', '', 'n', 'i', 'g', 'h', 't', '', 's', 'k', 'y', ',', '', 'L', 'i', 'l', 'y', '', 'c', 'a', 'r', 'r', 'i', 'e', 'd', '', 't', 'h', 'e', '', 'e', 'n', 'c', 'h', 'a', 'n', 't', 'm', 'e', 'n', 't', '', 'o', 'f', '', 't', 'h', 'e', '', 'E', 'n', 'c', 'h', 'a', 'n', 't', 'e', 'd', '', 'F', 'o', 'r', 'e', 's', 't', '', 'w', 'i', 't', 'h', '', 'h', 'e', 'r', ',', '', 'f', 'o', 'r', 'e', 'v', 'e', 'r', '', 'g', 'r', 'a', 't', 'e', 'f', 'u', 'l', '', 'f', 'o', 'r', '', 't', 'h', 'e', '', 'j', 'o', 'u', 'r', 'n', 'e', 'y', '', 'o', 'f', '', 's', 'e', 'l', 'f', '-', 'd', 'i', 's', 'c', 'o', 'v', 'e', 'r', 'y', '', 's', 'h', 'e', '', 'h', 'a', 'd', '', 'e', 'm', 'b', 'a', 'r', 'k', 'e', 'd', '', 'u', 'p', 'o', 'n', '.', 'T', 'h', 'e', '', 'q', 'u', 'i', 'z', ':', '', 'd', 'i', 'd', '', 'y', 'o', 'u', '', 'u', 'n', 'd', 'e', 'r', 's', 't', 'a', 'n', 'd', '', 't', 'h', 'e', '', 's', 't', 'o', 'r', 'y', '', 'w', 'e', 'l', 'l', '?', 'W', 'h', 'a', 't', '', 'i', 's', '', 't', 'h', 'e', '', 'n', 'a', 'm', 'e', '', 'o', 'f', '', 't', 'h', 'e', '', 'l', 'i', 't', 't', 'l', 'e', '', 'g', 'i', 'r', 'l', '', 'i', 'n', '', 't', 'h', 'e', '', 's', 't', 'o', 'r', 'y', '?', 'L', 'i', 'l', 'y', 'O', 'l', 'i', 'v', 'e', 'r', 'C', 'r', 'y', 's', 't', 'a', 'l', 'E', 'm', 'm', 'a', 'W', 'h', 'o', '', 'd', 'i', 'd', '', 'L', 'i', 'l', 'y', '', 'm', 'e', 'e', 't', '', 'i', 'n', '', 't', 'h', 'e', '', 'E', 'n', 'c', 'h', 'a', 'n', 't', 'e', 'd', '', 'F', 'o', 'r', 'e', 's', 't', '?', 'O', 'l', 'i', 'v', 'e', 'r', 'C', 'r', 'y', 's', 't', 'a', 'l', 'E', 'm', 'm', 'a', 'N', 'o', 'n', 'e', '', 'o', 'f', '', 't', 'h', 'e', '', 'a', 'b', 'o', 'v', 'e', 'W', 'h', 'a', 't', '', 'd', 'i', 'd', '', 'C', 'r', 'y', 's', 't', 'a', 'l', '', 'g', 'i', 'v', 'e', '', 't', 'o', '', 'L', 'i', 'l', 'y', '', 'a', 's', '', 'a', '', 't', 'o', 'k', 'e', 'n', '', 'o', 'f', '', 't', 'h', 'e', 'i', 'r', '', 'e', 'n', 'c', 'o', 'u', 'n', 't', 'e', 'r', '?', 'A', '', 'c', 'r', 'y', 's', 't', 'a', 'l', '', 'p', 'e', 'n', 'd', 'a', 'n', 't', 'A', '', 'm', 'a', 'g', 'i', 'c', 'a', 'l', '', 'w', 'a', 'n', 'd', 'A', '', 'g', 'o', 'l', 'd', 'e', 'n', '', 'c', 'r', 'o', 'w', 'n', 'A', '', 's', 'e', 'c', 'r', 'e', 't', '', 'm', 'a', 'p', 'W', 'h', 'e', 'r', 'e', '', 'd', 'i', 'd', '', 'L', 'i', 'l', 'y', '', 'a', 'n', 'd', '', 'O', 'l', 'i', 'v', 'e', 'r', '', 'd', 'i', 's', 'c', 'o', 'v', 'e', 'r', '', 'a', '', 's', 'p', 'a', 'r', 'k', 'l', 'i', 'n', 'g', '', 'p', 'o', 'n', 'd', '?', 'I', 'n', '', 't', 'h', 'e', '', 'E', 'n', 'c', 'h', 'a', 'n', 't', 'e', 'd', '', 'F', 'o', 'r', 'e', 's', 't', 'I', 'n', '', 't', 'h', 'e', '', 'H', 'i', 'd', 'd', 'e', 'n', '', 'C', 'a', 'v', 'e', 'I', 'n', '', 't', 'h', 'e', '', 'M', 'e', 'a', 'd', 'o', 'w', 'I', 'n', '', 't', 'h', 'e', '', 'M', 'a', 'g', 'i', 'c', 'a', 'l', '', 'C', 'a', 's', 't', 'l', 'e', 'W', 'h', 'a', 't', '', 'd', 'i', 'd', '', 'L', 'i', 'l', 'y', '', 's', 'e', 'e', '', 'w', 'h', 'e', 'n', '', 's', 'h', 'e', '', 'l', 'o', 'o', 'k', 'e', 'd', '', 'i', 'n', 't', 'o', '', 't', 'h', 'e', '', 'm', 'a', 'g', 'i', 'c', 'a', 'l', '', 'm', 'i', 'r', 'r', 'o', 'r', '?', 'H', 'e', 'r', '', 't', 'r', 'u', 'e', '', 'e', 's', 's', 'e', 'n', 'c', 'e', 'H', 'e', 'r', '', 'p', 'h', 'y', 's', 'i', 'c', 'a', 'l', '', 'a', 'p', 'p', 'e', 'a', 'r', 'a', 'n', 'c', 'e', 'H', 'e', 'r', '', 'd', 'r', 'e', 'a', 'm', 's', '', 'a', 'n', 'd', '', 'h', 'o', 'p', 'e', 's', 'A', 'l', 'l', '', 'o', 'f', '', 't', 'h', 'e', '', 'a', 'b', 'o', 'v', 'e', 'C', 'o', 'r', 'r', 'e', 'c', 't', '', 'a', 'n', 's', 'w', 'e', 'r', 's', ':', '1', ')', '', 'L', 'i', 'l', 'y', '', '2', ')', '', 'O', 'l', 'i', 'v', 'e', 'r', '', '3', ')', '', 'A', '', 'c', 'r', 'y', 's', 't', 'a', 'l', '', 'p', 'e', 'n', 'd', 'a', 'n', 't', '', '4', ')', '', 'I', 'n', '', 't', 'h', 'e', '', 'E', 'n', 'c', 'h', 'a', 'n', 't', 'e', 'd', '', 'F', 'o', 'r', 'e', 's', 't', '', '5', ')', '', 'A', 'l', 'l', '', 'o', 'f', '', 't', 'h', 'e', '', 'a', 'b', 'o', 'v', 'e', 'G', 'l', 'o', 's', 's', 'a', 'r', 'y', ':', '', 'c', 'o', 'm', 'p', 'l', 'i', 'c', 'a', 't', 'e', 'd', '', 'w', 'o', 'r', 'd', 's', '', 'i', 'n', '', 't', 'h', 'e', '', 's', 't', 'o', 'r', 'y', 'V', 'e', 'n', 't', 'u', 'r', 'e', ':', '', 'T', 'o', '', 'g', 'o', '', 's', 'o', 'm', 'e', 'w', 'h', 'e', 'r', 'e', '', 't', 'h', 'a', 't', '', 'i', 's', '', 'u', 'n', 'k', 'n', 'o', 'w', 'n', '', 'o', 'r', '', 'd', 'a', 'n', 'g', 'e', 'r', 'o', 'u', 's', 'V', 'i', 'b', 'r', 'a', 'n', 't', ':', '', 'B', 'r', 'i', 'g', 'h', 't', '', 'a', 'n', 'd', '', 'f', 'u', 'l', 'l', '', 'o', 'f', '', 'l', 'i', 'f', 'e', 'G', 'i', 'g', 'a', 'n', 't', 'i', 'c', ':', '', 'E', 'x', 't', 'r', 'e', 'm', 'e', 'l', 'y', '', 'l', 'a', 'r', 'g', 'e', 'A', 's', 't', 'o', 'n', 'i', 's', 'h', 'm', 'e', 'n', 't', ':', '', 'A', '', 'f', 'e', 'e', 'l', 'i', 'n', 'g', '', 'o', 'f', '', 'g', 'r', 'e', 'a', 't', '', 's', 'u', 'r', 'p', 'r', 'i', 's', 'e', '', 'o', 'r', '', 'w', 'o', 'n', 'd', 'e', 'r', 'R', 'u', 'm', 'b', 'l', 'i', 'n', 'g', ':', '', 'A', '', 'd', 'e', 'e', 'p', ',', '', 'l', 'o', 'w', '', 's', 'o', 'u', 'n', 'd', 'E', 'a', 'g', 'e', 'r', 'l', 'y', ':', '', 'W', 'i', 't', 'h', '', 'e', 'x', 'c', 'i', 't', 'e', 'm', 'e', 'n', 't', '', 'a', 'n', 'd', '', 'e', 'n', 't', 'h', 'u', 's', 'i', 'a', 's', 'm', 'C', 'a', 'p', 't', 'i', 'v', 'a', 't', 'e', 'd', ':', '', 'T', 'o', '', 'b', 'e', '', 'c', 'o', 'm', 'p', 'l', 'e', 't', 'e', 'l', 'y', '', 'f', 'a', 's', 'c', 'i', 'n', 'a', 't', 'e', 'd', '', 'o', 'r', '', 'e', 'n', 'c', 'h', 'a', 'n', 't', 'e', 'd', '', 'b', 'y', '', 's', 'o', 'm', 'e', 't', 'h', 'i', 'n', 'g', 'G', 'r', 'o', 'v', 'e', ':', '', 'A', '', 's', 'm', 'a', 'l', 'l', '', 'g', 'r', 'o', 'u', 'p', '', 'o', 'f', '', 't', 'r', 'e', 'e', 's', 'M', 'e', 'l', 'o', 'd', 'i', 'c', 'a', 'l', 'l', 'y', ':', '', 'I', 'n', '', 'a', '', 'w', 'a', 'y', '', 't', 'h', 'a', 't', '', 'i', 's', '', 's', 'w', 'e', 'e', 't', '', 'a', 'n', 'd', '', 'p', 'l', 'e', 'a', 's', 'a', 'n', 't', '', 't', 'o', '', 'l', 'i', 's', 't', 'e', 'n', '', 't', 'o', '', 'E', 's', 's', 'e', 'n', 'c', 'e', ':', '', 'T', 'h', 'e', '', 't', 'r', 'u', 'e', '', 'n', 'a', 't', 'u', 'r', 'e', '', 'o', 'r', '', 'i', 'd', 'e', 'n', 't', 'i', 't', 'y', '', 'o', 'f', '', 's', 'o', 'm', 'e', 't', 'h', 'i', 'n', 'g', '', 'T', 'r', 'a', 'n', 's', 'f', 'o', 'r', 'm', 'a', 't', 'i', 'v', 'e', ':', '', 'C', 'a', 'u', 's', 'i', 'n', 'g', '', 'a', '', 's', 'i', 'g', 'n', 'i', 'f', 'i', 'c', 'a', 'n', 't', '', 'c', 'h', 'a', 'n', 'g', 'e', '', 'o', 'r', '', 't', 'r', 'a', 'n', 's', 'f', 'o', 'r', 'm', 'a', 't', 'i', 'o', 'n']\n"
          ]
        }
      ]
    },
    {
      "cell_type": "markdown",
      "source": [
        "# Part of speech\n",
        "\n",
        "1. nnp is proper noun\n",
        "2. dt is determiner\n",
        "3. in is preposition\n",
        "4. nn is noun"
      ],
      "metadata": {
        "id": "ZgVYamJvegqE"
      }
    },
    {
      "cell_type": "code",
      "source": [
        "extracted_text=\"\"\n",
        "for paragraph in doc.paragraphs:\n",
        "  extracted_text+=paragraph.text + '\\n'\n",
        "words=word_tokenize(extracted_text)\n"
      ],
      "metadata": {
        "id": "pWdXgcOseiTO"
      },
      "execution_count": 19,
      "outputs": []
    },
    {
      "cell_type": "code",
      "source": [
        "tags=nltk.pos_tag(words)\n",
        "print(tags)"
      ],
      "metadata": {
        "colab": {
          "base_uri": "https://localhost:8080/"
        },
        "id": "ZXM75zrIex4v",
        "outputId": "eb8a030c-c041-4083-c3e4-5027e7f87131"
      },
      "execution_count": 20,
      "outputs": [
        {
          "output_type": "stream",
          "name": "stdout",
          "text": [
            "[('The', 'DT'), ('Enchanted', 'NNP'), ('Forest', 'NNP'), ('Adventure', 'NNP'), ('Fantastic', 'NNP'), ('story', 'NN'), ('•', 'NNP'), ('5-6', 'CD'), ('years', 'NNS'), ('old', 'JJ'), ('Chapter', 'NN'), ('1', 'CD'), (':', ':'), ('The', 'DT'), ('Enchanted', 'NNP'), ('Forest', 'NNP'), ('Once', 'RB'), ('upon', 'IN'), ('a', 'DT'), ('time', 'NN'), (',', ','), ('in', 'IN'), ('a', 'DT'), ('magical', 'JJ'), ('land', 'NN'), ('far', 'RB'), (',', ','), ('far', 'RB'), ('away', 'RB'), (',', ','), ('there', 'EX'), ('was', 'VBD'), ('a', 'DT'), ('little', 'JJ'), ('girl', 'NN'), ('named', 'VBN'), ('Lily', 'NNP'), ('.', '.'), ('She', 'PRP'), ('was', 'VBD'), ('a', 'DT'), ('curious', 'JJ'), ('and', 'CC'), ('adventurous', 'JJ'), ('six-year-old', 'NN'), ('who', 'WP'), ('loved', 'VBD'), ('exploring', 'VBG'), ('the', 'DT'), ('world', 'NN'), ('around', 'IN'), ('her', 'PRP$'), ('.', '.'), ('One', 'CD'), ('sunny', 'JJ'), ('morning', 'NN'), (',', ','), ('Lily', 'RB'), ('decided', 'VBD'), ('to', 'TO'), ('venture', 'NN'), ('into', 'IN'), ('the', 'DT'), ('Enchanted', 'NNP'), ('Forest', 'NNP'), (',', ','), ('a', 'DT'), ('place', 'NN'), ('full', 'JJ'), ('of', 'IN'), ('wonder', 'NN'), ('and', 'CC'), ('mystery', 'NN'), ('.', '.'), ('As', 'IN'), ('Lily', 'RB'), ('made', 'VBD'), ('her', 'PRP'), ('way', 'NN'), ('through', 'IN'), ('the', 'DT'), ('tall', 'JJ'), ('trees', 'NNS'), (',', ','), ('she', 'PRP'), ('could', 'MD'), (\"n't\", 'RB'), ('help', 'VB'), ('but', 'CC'), ('notice', 'VB'), ('the', 'DT'), ('vibrant', 'NN'), ('colors', 'NNS'), ('that', 'WDT'), ('surrounded', 'VBD'), ('her', 'PRP'), ('.', '.'), ('The', 'DT'), ('leaves', 'NNS'), ('were', 'VBD'), ('a', 'DT'), ('mixture', 'NN'), ('of', 'IN'), ('dazzling', 'VBG'), ('greens', 'NNS'), (',', ','), ('oranges', 'NNS'), (',', ','), ('and', 'CC'), ('purples', 'NNS'), (',', ','), ('and', 'CC'), ('the', 'DT'), ('air', 'NN'), ('was', 'VBD'), ('filled', 'VBN'), ('with', 'IN'), ('the', 'DT'), ('sweet', 'JJ'), ('scent', 'NN'), ('of', 'IN'), ('wildflowers', 'NNS'), ('.', '.'), ('The', 'DT'), ('forest', 'NN'), ('seemed', 'VBD'), ('to', 'TO'), ('come', 'VB'), ('alive', 'JJ'), ('with', 'IN'), ('every', 'DT'), ('step', 'NN'), ('she', 'PRP'), ('took', 'VBD'), ('.', '.'), ('Suddenly', 'RB'), (',', ','), ('Lily', 'NNP'), ('heard', 'VBD'), ('a', 'DT'), ('rustling', 'VBG'), ('sound', 'NN'), ('coming', 'VBG'), ('from', 'IN'), ('behind', 'IN'), ('a', 'DT'), ('gigantic', 'JJ'), ('tree', 'NN'), ('trunk', 'NN'), ('.', '.'), ('She', 'PRP'), ('cautiously', 'RB'), ('approached', 'VBD'), ('it', 'PRP'), ('and', 'CC'), ('peeked', 'VBD'), ('around', 'IN'), ('to', 'TO'), ('see', 'VB'), ('what', 'WP'), ('was', 'VBD'), ('causing', 'VBG'), ('the', 'DT'), ('noise', 'NN'), ('.', '.'), ('To', 'TO'), ('her', 'PRP$'), ('astonishment', 'NN'), (',', ','), ('she', 'PRP'), ('discovered', 'VBD'), ('a', 'DT'), ('friendly', 'JJ'), ('giant', 'NN'), ('named', 'VBN'), ('Oliver', 'NNP'), ('.', '.'), ('Chapter', 'NN'), ('2', 'CD'), (':', ':'), ('Meeting', 'NN'), ('Oliver', 'NNP'), ('Oliver', 'NNP'), ('was', 'VBD'), ('tall', 'JJ'), ('and', 'CC'), ('had', 'VBD'), ('a', 'DT'), ('kind', 'NN'), ('smile', 'NN'), ('that', 'WDT'), ('stretched', 'VBD'), ('from', 'IN'), ('ear', 'NN'), ('to', 'TO'), ('ear', 'VB'), ('.', '.'), ('His', 'PRP$'), ('eyes', 'NNS'), ('sparkled', 'VBN'), ('like', 'IN'), ('emeralds', 'NNS'), (',', ','), ('and', 'CC'), ('his', 'PRP$'), ('long', 'JJ'), (',', ','), ('flowing', 'VBG'), ('beard', 'NN'), ('seemed', 'VBD'), ('to', 'TO'), ('be', 'VB'), ('made', 'VBN'), ('of', 'IN'), ('golden', 'JJ'), ('threads', 'NNS'), ('.', '.'), ('Lily', 'NNP'), (\"'s\", 'POS'), ('heart', 'NN'), ('skipped', 'VBD'), ('a', 'DT'), ('beat', 'NN'), ('as', 'IN'), ('she', 'PRP'), ('gazed', 'VBD'), ('up', 'RB'), ('at', 'IN'), ('him', 'PRP'), ('.', '.'), ('«', 'NN'), ('Hello', 'NNP'), (',', ','), ('little', 'JJ'), ('one', 'CD'), (',', ','), ('»', 'VBZ'), ('Oliver', 'NNP'), ('boomed', 'VBD'), ('with', 'IN'), ('his', 'PRP$'), ('deep', 'NN'), (',', ','), ('rumbling', 'VBG'), ('voice', 'NN'), ('.', '.'), ('«', 'VB'), ('What', 'WP'), ('brings', 'VBZ'), ('you', 'PRP'), ('to', 'TO'), ('the', 'DT'), ('Enchanted', 'NNP'), ('Forest', 'NNP'), ('?', '.'), ('»', 'NNP'), ('Lily', 'NNP'), (',', ','), ('with', 'IN'), ('wide', 'JJ'), ('eyes', 'NNS'), (',', ','), ('replied', 'VBD'), (',', ','), ('«', 'FW'), ('I', 'PRP'), ('love', 'VBP'), ('exploring', 'VBG'), ('new', 'JJ'), ('places', 'NNS'), (',', ','), ('and', 'CC'), ('this', 'DT'), ('forest', 'NN'), ('looked', 'VBD'), ('too', 'RB'), ('magical', 'JJ'), ('to', 'TO'), ('resist', 'VB'), ('.', '.'), ('Who', 'WP'), ('are', 'VBP'), ('you', 'PRP'), ('?', '.'), ('»', \"''\"), ('«', 'NN'), ('I', 'PRP'), ('am', 'VBP'), ('Oliver', 'RB'), (',', ','), ('the', 'DT'), ('gentle', 'JJ'), ('giant', 'NN'), ('of', 'IN'), ('these', 'DT'), ('woods', 'NNS'), (',', ','), ('»', 'NN'), ('he', 'PRP'), ('said', 'VBD'), ('with', 'IN'), ('pride', 'NN'), ('.', '.'), ('«', 'NN'), ('Would', 'MD'), ('you', 'PRP'), ('like', 'VB'), ('me', 'PRP'), ('to', 'TO'), ('show', 'VB'), ('you', 'PRP'), ('around', 'RB'), ('?', '.'), ('There', 'EX'), ('are', 'VBP'), ('so', 'RB'), ('many', 'JJ'), ('wonders', 'NNS'), ('waiting', 'VBG'), ('to', 'TO'), ('be', 'VB'), ('discovered', 'VBN'), ('.', '.'), ('»', 'JJ'), ('Lily', 'NNP'), (\"'s\", 'POS'), ('face', 'NN'), ('lit', 'VBD'), ('up', 'RP'), ('with', 'IN'), ('excitement', 'NN'), (',', ','), ('and', 'CC'), ('she', 'PRP'), ('eagerly', 'RB'), ('accepted', 'VBD'), ('Oliver', 'NNP'), (\"'s\", 'POS'), ('kind', 'NN'), ('offer', 'NN'), ('.', '.'), ('Together', 'RB'), (',', ','), ('they', 'PRP'), ('embarked', 'VBD'), ('on', 'IN'), ('an', 'DT'), ('extraordinary', 'JJ'), ('adventure', 'NN'), ('through', 'IN'), ('the', 'DT'), ('Enchanted', 'NNP'), ('Forest', 'NNP'), ('.', '.'), ('Chapter', 'NN'), ('3', 'CD'), (':', ':'), ('Uncovering', 'VBG'), ('Secrets', 'NNS'), ('As', 'IN'), ('they', 'PRP'), ('wandered', 'VBD'), ('deeper', 'NN'), ('into', 'IN'), ('the', 'DT'), ('forest', 'JJS'), (',', ','), ('Lily', 'RB'), ('and', 'CC'), ('Oliver', 'NNP'), ('stumbled', 'VBD'), ('upon', 'IN'), ('a', 'DT'), ('sparkling', 'JJ'), ('pond', 'NN'), ('.', '.'), ('Its', 'PRP$'), ('water', 'NN'), ('was', 'VBD'), ('so', 'RB'), ('clear', 'JJ'), ('that', 'IN'), ('Lily', 'NNP'), ('could', 'MD'), ('see', 'VB'), ('her', 'PRP$'), ('reflection', 'NN'), ('perfectly', 'RB'), ('.', '.'), ('Suddenly', 'RB'), (',', ','), ('a', 'DT'), ('shimmering', 'JJ'), ('creature', 'NN'), ('emerged', 'VBD'), ('from', 'IN'), ('the', 'DT'), ('depths', 'NNS'), ('of', 'IN'), ('the', 'DT'), ('pond', 'NN'), ('.', '.'), ('It', 'PRP'), ('was', 'VBD'), ('a', 'DT'), ('water', 'NN'), ('nymph', 'NN'), ('named', 'VBN'), ('Crystal', 'NNP'), ('.', '.'), ('Crystal', 'NNP'), ('had', 'VBD'), ('radiant', 'JJ'), ('blue', 'JJ'), ('hair', 'NN'), ('that', 'WDT'), ('flowed', 'VBD'), ('down', 'IN'), ('her', 'PRP$'), ('back', 'NN'), ('like', 'IN'), ('a', 'DT'), ('waterfall', 'NN'), ('.', '.'), ('Her', 'PRP$'), ('delicate', 'JJ'), ('wings', 'NNS'), ('shimmered', 'VBN'), ('in', 'IN'), ('the', 'DT'), ('sunlight', 'NN'), (',', ','), ('and', 'CC'), ('Lily', 'NNP'), ('could', 'MD'), (\"n't\", 'RB'), ('help', 'VB'), ('but', 'CC'), ('be', 'VB'), ('captivated', 'VBN'), ('by', 'IN'), ('her', 'PRP$'), ('beauty', 'NN'), ('.', '.'), ('«', 'CC'), ('Welcome', 'NNP'), ('to', 'TO'), ('my', 'PRP$'), ('home', 'NN'), (',', ','), ('little', 'JJ'), ('ones', 'NNS'), (',', ','), ('»', 'NNP'), ('Crystal', 'NNP'), ('chimed', 'VBD'), ('melodically', 'RB'), ('.', '.'), ('«', 'NNS'), ('Are', 'VBP'), ('you', 'PRP'), ('ready', 'JJ'), ('to', 'TO'), ('uncover', 'VB'), ('the', 'DT'), ('secrets', 'NNS'), ('of', 'IN'), ('this', 'DT'), ('magical', 'JJ'), ('forest', 'NN'), ('?', '.'), ('»', 'JJ'), ('Lily', 'NNP'), ('nodded', 'VBD'), ('enthusiastically', 'RB'), (',', ','), ('and', 'CC'), ('Oliver', 'NNP'), ('smiled', 'VBD'), ('warmly', 'RB'), ('.', '.'), ('Crystal', 'NNP'), ('led', 'VBD'), ('them', 'PRP'), ('to', 'TO'), ('a', 'DT'), ('hidden', 'JJ'), ('grove', 'NN'), ('where', 'WRB'), ('the', 'DT'), ('trees', 'NNS'), ('whispered', 'VBD'), ('ancient', 'JJ'), ('tales', 'NNS'), ('and', 'CC'), ('the', 'DT'), ('flowers', 'NNS'), ('sang', 'VBD'), ('enchanting', 'VBG'), ('melodies', 'NNS'), ('.', '.'), ('The', 'DT'), ('trio', 'NN'), ('spent', 'NN'), ('hours', 'NNS'), ('listening', 'VBG'), ('to', 'TO'), ('the', 'DT'), ('stories', 'NNS'), ('of', 'IN'), ('mystical', 'JJ'), ('creatures', 'NNS'), ('and', 'CC'), ('their', 'PRP$'), ('extraordinary', 'JJ'), ('abilities', 'NNS'), ('.', '.'), ('Chapter', 'NN'), ('4', 'CD'), (':', ':'), ('The', 'DT'), ('Journey', 'NNP'), ('Within', 'NNP'), ('As', 'IN'), ('evening', 'VBG'), ('approached', 'VBN'), (',', ','), ('Crystal', 'NNP'), ('revealed', 'VBD'), ('a', 'DT'), ('secret', 'JJ'), ('passage', 'NN'), ('that', 'WDT'), ('led', 'VBD'), ('to', 'TO'), ('a', 'DT'), ('hidden', 'JJ'), ('cave', 'NN'), ('.', '.'), ('«', 'JJ'), ('Inside', 'NNP'), ('lies', 'VBZ'), ('a', 'DT'), ('mysterious', 'JJ'), ('mirror', 'NN'), (',', ','), ('»', 'NNP'), ('she', 'PRP'), ('explained', 'VBD'), ('.', '.'), ('«', 'VB'), ('It', 'PRP'), ('has', 'VBZ'), ('the', 'DT'), ('power', 'NN'), ('to', 'TO'), ('reflect', 'VB'), ('the', 'DT'), ('true', 'JJ'), ('essence', 'NN'), ('of', 'IN'), ('those', 'DT'), ('who', 'WP'), ('gaze', 'VBP'), ('upon', 'IN'), ('it', 'PRP'), ('.', '.'), ('»', 'CC'), ('Lily', 'NNP'), (\"'s\", 'POS'), ('curiosity', 'NN'), ('peaked', 'VBD'), (',', ','), ('and', 'CC'), ('she', 'PRP'), ('stepped', 'VBD'), ('closer', 'JJR'), ('to', 'TO'), ('the', 'DT'), ('mirror', 'NN'), ('.', '.'), ('As', 'IN'), ('she', 'PRP'), ('looked', 'VBD'), ('at', 'IN'), ('her', 'PRP$'), ('reflection', 'NN'), (',', ','), ('she', 'PRP'), ('saw', 'VBD'), ('not', 'RB'), ('just', 'RB'), ('her', 'PRP$'), ('physical', 'JJ'), ('appearance', 'NN'), ('but', 'CC'), ('also', 'RB'), ('glimpses', 'NNS'), ('of', 'IN'), ('her', 'PRP$'), ('dreams', 'NNS'), (',', ','), ('hopes', 'NNS'), (',', ','), ('and', 'CC'), ('fears', 'NNS'), ('.', '.'), ('The', 'DT'), ('mirror', 'NN'), ('revealed', 'VBD'), ('the', 'DT'), ('depths', 'NNS'), ('of', 'IN'), ('her', 'PRP$'), ('own', 'JJ'), ('unique', 'JJ'), ('spirit', 'NN'), ('.', '.'), ('Oliver', 'NNP'), ('and', 'CC'), ('Crystal', 'NNP'), ('watched', 'VBD'), ('with', 'IN'), ('knowing', 'VBG'), ('smiles', 'NNS'), (',', ','), ('for', 'IN'), ('they', 'PRP'), ('had', 'VBD'), ('witnessed', 'VBN'), ('the', 'DT'), ('transformative', 'JJ'), ('power', 'NN'), ('of', 'IN'), ('the', 'DT'), ('mirror', 'NN'), ('many', 'JJ'), ('times', 'NNS'), ('before', 'IN'), ('.', '.'), ('Lily', 'NNP'), ('felt', 'VBD'), ('a', 'DT'), ('newfound', 'JJ'), ('sense', 'NN'), ('of', 'IN'), ('self-belief', 'NN'), ('and', 'CC'), ('wonder', 'NN'), ('that', 'WDT'), ('would', 'MD'), ('stay', 'VB'), ('with', 'IN'), ('her', 'PRP$'), ('forever', 'NN'), ('.', '.'), ('Chapter', 'NN'), ('5', 'CD'), (':', ':'), ('A', 'DT'), ('Grateful', 'NNP'), ('Goodbye', 'NNP'), ('After', 'IN'), ('their', 'PRP$'), ('incredible', 'JJ'), ('journey', 'NN'), (',', ','), ('it', 'PRP'), ('was', 'VBD'), ('time', 'NN'), ('to', 'TO'), ('bid', 'VB'), ('farewell', 'RB'), ('.', '.'), ('Lily', 'RB'), ('hugged', 'VBD'), ('Oliver', 'NNP'), ('tightly', 'RB'), (',', ','), ('grateful', 'NN'), ('for', 'IN'), ('their', 'PRP$'), ('newfound', 'JJ'), ('friendship', 'NN'), ('.', '.'), ('Crystal', 'NNP'), ('bestowed', 'VBD'), ('a', 'DT'), ('small', 'JJ'), ('crystal', 'NN'), ('pendant', 'NN'), ('upon', 'IN'), ('her', 'PRP'), (',', ','), ('a', 'DT'), ('token', 'NN'), ('of', 'IN'), ('their', 'PRP$'), ('magical', 'JJ'), ('encounter', 'NN'), ('.', '.'), ('As', 'IN'), ('Lily', 'NNP'), ('stepped', 'VBD'), ('out', 'IN'), ('of', 'IN'), ('the', 'DT'), ('Enchanted', 'NNP'), ('Forest', 'NNP'), (',', ','), ('she', 'PRP'), ('could', 'MD'), (\"n't\", 'RB'), ('help', 'VB'), ('but', 'CC'), ('feel', 'VB'), ('a', 'DT'), ('sense', 'NN'), ('of', 'IN'), ('joy', 'NN'), ('and', 'CC'), ('wonder', 'NN'), ('bubbling', 'NN'), ('within', 'IN'), ('her', 'PRP'), ('.', '.'), ('She', 'PRP'), ('had', 'VBD'), ('discovered', 'VBN'), ('the', 'DT'), ('beauty', 'NN'), ('of', 'IN'), ('nature', 'NN'), (',', ','), ('the', 'DT'), ('power', 'NN'), ('of', 'IN'), ('friendship', 'NN'), (',', ','), ('and', 'CC'), ('most', 'JJS'), ('importantly', 'RB'), (',', ','), ('the', 'DT'), ('magic', 'NN'), ('that', 'WDT'), ('resided', 'VBD'), ('within', 'IN'), ('her', 'PRP'), ('own', 'JJ'), ('heart', 'NN'), ('.', '.'), ('And', 'CC'), ('so', 'RB'), (',', ','), ('as', 'IN'), ('the', 'DT'), ('sun', 'NN'), ('dipped', 'VBD'), ('below', 'IN'), ('the', 'DT'), ('horizon', 'NN'), ('and', 'CC'), ('the', 'DT'), ('stars', 'NNS'), ('twinkled', 'VBD'), ('in', 'IN'), ('the', 'DT'), ('night', 'NN'), ('sky', 'NN'), (',', ','), ('Lily', 'RB'), ('carried', 'VBD'), ('the', 'DT'), ('enchantment', 'NN'), ('of', 'IN'), ('the', 'DT'), ('Enchanted', 'NNP'), ('Forest', 'NNP'), ('with', 'IN'), ('her', 'PRP'), (',', ','), ('forever', 'RB'), ('grateful', 'NN'), ('for', 'IN'), ('the', 'DT'), ('journey', 'NN'), ('of', 'IN'), ('self-discovery', 'NN'), ('she', 'PRP'), ('had', 'VBD'), ('embarked', 'VBN'), ('upon', 'IN'), ('.', '.'), ('The', 'DT'), ('quiz', 'NN'), (':', ':'), ('did', 'VBD'), ('you', 'PRP'), ('understand', 'VB'), ('the', 'DT'), ('story', 'NN'), ('well', 'RB'), ('?', '.'), ('What', 'WP'), ('is', 'VBZ'), ('the', 'DT'), ('name', 'NN'), ('of', 'IN'), ('the', 'DT'), ('little', 'JJ'), ('girl', 'NN'), ('in', 'IN'), ('the', 'DT'), ('story', 'NN'), ('?', '.'), ('Lily', 'RB'), ('Oliver', 'NNP'), ('Crystal', 'NNP'), ('Emma', 'NNP'), ('Who', 'NNP'), ('did', 'VBD'), ('Lily', 'NNP'), ('meet', 'NN'), ('in', 'IN'), ('the', 'DT'), ('Enchanted', 'NNP'), ('Forest', 'NNP'), ('?', '.'), ('Oliver', 'NNP'), ('Crystal', 'NNP'), ('Emma', 'NNP'), ('None', 'NN'), ('of', 'IN'), ('the', 'DT'), ('above', 'IN'), ('What', 'WP'), ('did', 'VBD'), ('Crystal', 'NNP'), ('give', 'VB'), ('to', 'TO'), ('Lily', 'NNP'), ('as', 'IN'), ('a', 'DT'), ('token', 'NN'), ('of', 'IN'), ('their', 'PRP$'), ('encounter', 'NN'), ('?', '.'), ('A', 'DT'), ('crystal', 'NN'), ('pendant', 'NN'), ('A', 'NNP'), ('magical', 'JJ'), ('wand', 'NN'), ('A', 'NNP'), ('golden', 'JJ'), ('crown', 'NN'), ('A', 'NNP'), ('secret', 'NN'), ('map', 'NN'), ('Where', 'WRB'), ('did', 'VBD'), ('Lily', 'NNP'), ('and', 'CC'), ('Oliver', 'NNP'), ('discover', 'VBP'), ('a', 'DT'), ('sparkling', 'VBG'), ('pond', 'NN'), ('?', '.'), ('In', 'IN'), ('the', 'DT'), ('Enchanted', 'NNP'), ('Forest', 'NNP'), ('In', 'IN'), ('the', 'DT'), ('Hidden', 'NNP'), ('Cave', 'NNP'), ('In', 'IN'), ('the', 'DT'), ('Meadow', 'NNP'), ('In', 'IN'), ('the', 'DT'), ('Magical', 'NNP'), ('Castle', 'NNP'), ('What', 'WP'), ('did', 'VBD'), ('Lily', 'RB'), ('see', 'VB'), ('when', 'WRB'), ('she', 'PRP'), ('looked', 'VBD'), ('into', 'IN'), ('the', 'DT'), ('magical', 'JJ'), ('mirror', 'NN'), ('?', '.'), ('Her', 'PRP$'), ('true', 'JJ'), ('essence', 'NN'), ('Her', 'NNP'), ('physical', 'JJ'), ('appearance', 'NN'), ('Her', 'NNP'), ('dreams', 'NN'), ('and', 'CC'), ('hopes', 'VBZ'), ('All', 'DT'), ('of', 'IN'), ('the', 'DT'), ('above', 'JJ'), ('Correct', 'NNP'), ('answers', 'NNS'), (':', ':'), ('1', 'CD'), (')', ')'), ('Lily', 'RB'), ('2', 'CD'), (')', ')'), ('Oliver', 'RB'), ('3', 'CD'), (')', ')'), ('A', 'DT'), ('crystal', 'JJ'), ('pendant', 'NN'), ('4', 'CD'), (')', ')'), ('In', 'IN'), ('the', 'DT'), ('Enchanted', 'NNP'), ('Forest', 'NNP'), ('5', 'CD'), (')', ')'), ('All', 'DT'), ('of', 'IN'), ('the', 'DT'), ('above', 'JJ'), ('Glossary', 'NNP'), (':', ':'), ('complicated', 'VBD'), ('words', 'NNS'), ('in', 'IN'), ('the', 'DT'), ('story', 'NN'), ('Venture', 'NN'), (':', ':'), ('To', 'TO'), ('go', 'VB'), ('somewhere', 'RB'), ('that', 'DT'), ('is', 'VBZ'), ('unknown', 'JJ'), ('or', 'CC'), ('dangerous', 'JJ'), ('Vibrant', 'NN'), (':', ':'), ('Bright', 'NNP'), ('and', 'CC'), ('full', 'JJ'), ('of', 'IN'), ('life', 'NN'), ('Gigantic', 'NNP'), (':', ':'), ('Extremely', 'RB'), ('large', 'JJ'), ('Astonishment', 'NNP'), (':', ':'), ('A', 'DT'), ('feeling', 'NN'), ('of', 'IN'), ('great', 'JJ'), ('surprise', 'NN'), ('or', 'CC'), ('wonder', 'NN'), ('Rumbling', 'NN'), (':', ':'), ('A', 'DT'), ('deep', 'JJ'), (',', ','), ('low', 'JJ'), ('sound', 'VBD'), ('Eagerly', 'RB'), (':', ':'), ('With', 'IN'), ('excitement', 'NN'), ('and', 'CC'), ('enthusiasm', 'NN'), ('Captivated', 'VBN'), (':', ':'), ('To', 'TO'), ('be', 'VB'), ('completely', 'RB'), ('fascinated', 'VBN'), ('or', 'CC'), ('enchanted', 'VBN'), ('by', 'IN'), ('something', 'NN'), ('Grove', 'NNP'), (':', ':'), ('A', 'DT'), ('small', 'JJ'), ('group', 'NN'), ('of', 'IN'), ('trees', 'NNS'), ('Melodically', 'RB'), (':', ':'), ('In', 'IN'), ('a', 'DT'), ('way', 'NN'), ('that', 'WDT'), ('is', 'VBZ'), ('sweet', 'JJ'), ('and', 'CC'), ('pleasant', 'JJ'), ('to', 'TO'), ('listen', 'VB'), ('to', 'TO'), ('Essence', 'NNP'), (':', ':'), ('The', 'DT'), ('true', 'JJ'), ('nature', 'NN'), ('or', 'CC'), ('identity', 'NN'), ('of', 'IN'), ('something', 'NN'), ('Transformative', 'JJ'), (':', ':'), ('Causing', 'VBG'), ('a', 'DT'), ('significant', 'JJ'), ('change', 'NN'), ('or', 'CC'), ('transformation', 'NN')]\n"
          ]
        }
      ]
    },
    {
      "cell_type": "markdown",
      "source": [
        "# StopWord Removal"
      ],
      "metadata": {
        "id": "pCkrQ5uPfGLp"
      }
    },
    {
      "cell_type": "code",
      "source": [
        "from nltk.corpus import stopwords\n"
      ],
      "metadata": {
        "id": "cO3DC0NKe3wc"
      },
      "execution_count": 21,
      "outputs": []
    },
    {
      "cell_type": "code",
      "source": [
        "doc=docx.Document(\"/content/drive/MyDrive/Colab Notebooks/NLP_Sem7_pythonLab/the-enchanted-forest-adventure.docx\")"
      ],
      "metadata": {
        "id": "VC2l7RQ8fX2e"
      },
      "execution_count": 22,
      "outputs": []
    },
    {
      "cell_type": "code",
      "source": [
        "sentences=[]\n",
        "for paragraph in doc.paragraphs:\n",
        "  sentences.extend(paragraph.text)\n",
        "\n",
        "stopwords=nltk.corpus.stopwords.words(\"english\")\n",
        "\n",
        "stopword_remved_sentences=[]\n",
        "for sentence in sentences:\n",
        "  stopwords_removed_sentence=[]\n",
        "  for word in sentence.split():\n",
        "    if word not in stopwords:\n",
        "      stopwords_removed_sentence.append(word)\n",
        "  stopword_remved_sentences.append(\" \".join(stopwords_removed_sentence))"
      ],
      "metadata": {
        "id": "bS1hJoN6faRW"
      },
      "execution_count": 23,
      "outputs": []
    },
    {
      "cell_type": "code",
      "source": [
        "print(\"Stopwords Removed Sentences:\")\n",
        "print(stopword_remved_sentences)"
      ],
      "metadata": {
        "colab": {
          "base_uri": "https://localhost:8080/"
        },
        "id": "N8qRYUHUf6ps",
        "outputId": "8cb03c53-7f47-423b-f62e-ab28b6470765"
      },
      "execution_count": 24,
      "outputs": [
        {
          "output_type": "stream",
          "name": "stdout",
          "text": [
            "Stopwords Removed Sentences:\n",
            "['T', 'h', 'e', '', 'E', 'n', 'c', 'h', '', 'n', '', 'e', '', '', 'F', '', 'r', 'e', '', '', '', 'A', '', 'v', 'e', 'n', '', 'u', 'r', 'e', 'F', '', 'n', '', '', '', '', '', 'c', '', '', '', '', 'r', '', '', '•', '', '5', '-', '6', '', '', 'e', '', 'r', '', '', '', 'l', '', 'C', 'h', '', 'p', '', 'e', 'r', '', '1', ':', '', 'T', 'h', 'e', '', 'E', 'n', 'c', 'h', '', 'n', '', 'e', '', '', 'F', '', 'r', 'e', '', '', 'O', 'n', 'c', 'e', '', 'u', 'p', '', 'n', '', '', '', '', '', '', 'e', ',', '', '', 'n', '', '', '', '', '', 'g', '', 'c', '', 'l', '', 'l', '', 'n', '', '', 'f', '', 'r', ',', '', 'f', '', 'r', '', '', 'w', '', '', ',', '', '', 'h', 'e', 'r', 'e', '', 'w', '', '', '', '', '', 'l', '', '', '', 'l', 'e', '', 'g', '', 'r', 'l', '', 'n', '', '', 'e', '', '', 'L', '', 'l', '', '.', '', 'S', 'h', 'e', '', 'w', '', '', '', '', '', 'c', 'u', 'r', '', '', 'u', '', '', '', 'n', '', '', '', '', 'v', 'e', 'n', '', 'u', 'r', '', 'u', '', '', '', '', 'x', '-', '', 'e', '', 'r', '-', '', 'l', '', '', 'w', 'h', '', '', 'l', '', 'v', 'e', '', '', 'e', 'x', 'p', 'l', '', 'r', '', 'n', 'g', '', '', 'h', 'e', '', 'w', '', 'r', 'l', '', '', '', 'r', '', 'u', 'n', '', '', 'h', 'e', 'r', '.', '', 'O', 'n', 'e', '', '', 'u', 'n', 'n', '', '', '', '', 'r', 'n', '', 'n', 'g', ',', '', 'L', '', 'l', '', '', '', 'e', 'c', '', '', 'e', '', '', '', '', '', 'v', 'e', 'n', '', 'u', 'r', 'e', '', '', 'n', '', '', '', '', 'h', 'e', '', 'E', 'n', 'c', 'h', '', 'n', '', 'e', '', '', 'F', '', 'r', 'e', '', '', ',', '', '', '', 'p', 'l', '', 'c', 'e', '', 'f', 'u', 'l', 'l', '', '', 'f', '', 'w', '', 'n', '', 'e', 'r', '', '', 'n', '', '', '', '', '', '', 'e', 'r', '', '.', 'A', '', '', 'L', '', 'l', '', '', '', '', '', 'e', '', 'h', 'e', 'r', '', 'w', '', '', '', '', 'h', 'r', '', 'u', 'g', 'h', '', '', 'h', 'e', '', '', '', 'l', 'l', '', '', 'r', 'e', 'e', '', ',', '', '', 'h', 'e', '', 'c', '', 'u', 'l', '', 'n', \"'\", '', '', 'h', 'e', 'l', 'p', '', 'b', 'u', '', '', 'n', '', '', '', 'c', 'e', '', '', 'h', 'e', '', 'v', '', 'b', 'r', '', 'n', '', '', 'c', '', 'l', '', 'r', '', '', '', 'h', '', '', '', '', 'u', 'r', 'r', '', 'u', 'n', '', 'e', '', '', 'h', 'e', 'r', '.', '', 'T', 'h', 'e', '', 'l', 'e', '', 'v', 'e', '', '', 'w', 'e', 'r', 'e', '', '', '', '', '', 'x', '', 'u', 'r', 'e', '', '', 'f', '', '', '', 'z', 'z', 'l', '', 'n', 'g', '', 'g', 'r', 'e', 'e', 'n', '', ',', '', '', 'r', '', 'n', 'g', 'e', '', ',', '', '', 'n', '', '', 'p', 'u', 'r', 'p', 'l', 'e', '', ',', '', '', 'n', '', '', '', 'h', 'e', '', '', '', 'r', '', 'w', '', '', '', 'f', '', 'l', 'l', 'e', '', '', 'w', '', '', 'h', '', '', 'h', 'e', '', '', 'w', 'e', 'e', '', '', '', 'c', 'e', 'n', '', '', '', 'f', '', 'w', '', 'l', '', 'f', 'l', '', 'w', 'e', 'r', '', '.', '', 'T', 'h', 'e', '', 'f', '', 'r', 'e', '', '', '', '', 'e', 'e', '', 'e', '', '', '', '', '', 'c', '', '', 'e', '', '', 'l', '', 'v', 'e', '', 'w', '', '', 'h', '', 'e', 'v', 'e', 'r', '', '', '', '', 'e', 'p', '', '', 'h', 'e', '', '', '', '', 'k', '.', 'S', 'u', '', '', 'e', 'n', 'l', '', ',', '', 'L', '', 'l', '', '', 'h', 'e', '', 'r', '', '', '', '', 'r', 'u', '', '', 'l', '', 'n', 'g', '', '', '', 'u', 'n', '', '', 'c', '', '', '', 'n', 'g', '', 'f', 'r', '', '', '', 'b', 'e', 'h', '', 'n', '', '', '', '', 'g', '', 'g', '', 'n', '', '', 'c', '', '', 'r', 'e', 'e', '', '', 'r', 'u', 'n', 'k', '.', '', 'S', 'h', 'e', '', 'c', '', 'u', '', '', '', 'u', '', 'l', '', '', '', 'p', 'p', 'r', '', '', 'c', 'h', 'e', '', '', '', '', '', '', 'n', '', '', 'p', 'e', 'e', 'k', 'e', '', '', '', 'r', '', 'u', 'n', '', '', '', '', '', '', 'e', 'e', '', 'w', 'h', '', '', '', 'w', '', '', '', 'c', '', 'u', '', '', 'n', 'g', '', '', 'h', 'e', '', 'n', '', '', '', 'e', '.', '', 'T', '', '', 'h', 'e', 'r', '', '', '', '', '', 'n', '', '', 'h', '', 'e', 'n', '', ',', '', '', 'h', 'e', '', '', '', '', 'c', '', 'v', 'e', 'r', 'e', '', '', '', '', 'f', 'r', '', 'e', 'n', '', 'l', '', '', 'g', '', '', 'n', '', '', 'n', '', '', 'e', '', '', 'O', 'l', '', 'v', 'e', 'r', '.', 'C', 'h', '', 'p', '', 'e', 'r', '', '2', ':', '', 'M', 'e', 'e', '', '', 'n', 'g', '', 'O', 'l', '', 'v', 'e', 'r', 'O', 'l', '', 'v', 'e', 'r', '', 'w', '', '', '', '', '', 'l', 'l', '', '', 'n', '', '', 'h', '', '', '', '', '', 'k', '', 'n', '', '', '', '', '', 'l', 'e', '', '', 'h', '', '', '', '', '', 'r', 'e', '', 'c', 'h', 'e', '', '', 'f', 'r', '', '', '', 'e', '', 'r', '', '', '', '', 'e', '', 'r', '.', '', 'H', '', '', '', 'e', '', 'e', '', '', '', 'p', '', 'r', 'k', 'l', 'e', '', '', 'l', '', 'k', 'e', '', 'e', '', 'e', 'r', '', 'l', '', '', ',', '', '', 'n', '', '', 'h', '', '', '', 'l', '', 'n', 'g', ',', '', 'f', 'l', '', 'w', '', 'n', 'g', '', 'b', 'e', '', 'r', '', '', '', 'e', 'e', '', 'e', '', '', '', '', '', 'b', 'e', '', '', '', '', 'e', '', '', 'f', '', 'g', '', 'l', '', 'e', 'n', '', '', 'h', 'r', 'e', '', '', '', '.', '', 'L', '', 'l', '', \"'\", '', '', 'h', 'e', '', 'r', '', '', '', 'k', '', 'p', 'p', 'e', '', '', '', '', 'b', 'e', '', '', '', '', '', '', '', 'h', 'e', '', 'g', '', 'z', 'e', '', '', 'u', 'p', '', '', '', '', 'h', '', '', '.', '«', '', 'H', 'e', 'l', 'l', '', ',', '', 'l', '', '', '', 'l', 'e', '', '', 'n', 'e', ',', '', '»', '', 'O', 'l', '', 'v', 'e', 'r', '', 'b', '', '', '', 'e', '', '', 'w', '', '', 'h', '', 'h', '', '', '', '', 'e', 'e', 'p', ',', '', 'r', 'u', '', 'b', 'l', '', 'n', 'g', '', 'v', '', '', 'c', 'e', '.', '', '«', '', 'W', 'h', '', '', '', 'b', 'r', '', 'n', 'g', '', '', '', '', 'u', '', '', '', '', '', 'h', 'e', '', 'E', 'n', 'c', 'h', '', 'n', '', 'e', '', '', 'F', '', 'r', 'e', '', '', '?', '', '»', 'L', '', 'l', '', ',', '', 'w', '', '', 'h', '', 'w', '', '', 'e', '', 'e', '', 'e', '', ',', '', 'r', 'e', 'p', 'l', '', 'e', '', ',', '', '«', '', 'I', '', 'l', '', 'v', 'e', '', 'e', 'x', 'p', 'l', '', 'r', '', 'n', 'g', '', 'n', 'e', 'w', '', 'p', 'l', '', 'c', 'e', '', ',', '', '', 'n', '', '', '', 'h', '', '', '', 'f', '', 'r', 'e', '', '', '', 'l', '', '', 'k', 'e', '', '', '', '', '', '', '', '', 'g', '', 'c', '', 'l', '', '', '', '', 'r', 'e', '', '', '', '', '.', '', 'W', 'h', '', '', '', 'r', 'e', '', '', '', 'u', '?', '', '»', '«', '', 'I', '', '', '', '', 'O', 'l', '', 'v', 'e', 'r', ',', '', '', 'h', 'e', '', 'g', 'e', 'n', '', 'l', 'e', '', 'g', '', '', 'n', '', '', '', 'f', '', '', 'h', 'e', '', 'e', '', 'w', '', '', '', '', ',', '', '»', '', 'h', 'e', '', '', '', '', '', '', 'w', '', '', 'h', '', 'p', 'r', '', '', 'e', '.', '', '«', '', 'W', '', 'u', 'l', '', '', '', '', 'u', '', 'l', '', 'k', 'e', '', '', 'e', '', '', '', '', '', 'h', '', 'w', '', '', '', 'u', '', '', 'r', '', 'u', 'n', '', '?', '', 'T', 'h', 'e', 'r', 'e', '', '', 'r', 'e', '', '', '', '', '', '', 'n', '', '', 'w', '', 'n', '', 'e', 'r', '', '', 'w', '', '', '', '', 'n', 'g', '', '', '', '', 'b', 'e', '', '', '', '', 'c', '', 'v', 'e', 'r', 'e', '', '.', '', '»', 'L', '', 'l', '', \"'\", '', '', 'f', '', 'c', 'e', '', 'l', '', '', '', 'u', 'p', '', 'w', '', '', 'h', '', 'e', 'x', 'c', '', '', 'e', '', 'e', 'n', '', ',', '', '', 'n', '', '', '', 'h', 'e', '', 'e', '', 'g', 'e', 'r', 'l', '', '', '', 'c', 'c', 'e', 'p', '', 'e', '', '', 'O', 'l', '', 'v', 'e', 'r', \"'\", '', '', 'k', '', 'n', '', '', '', 'f', 'f', 'e', 'r', '.', '', 'T', '', 'g', 'e', '', 'h', 'e', 'r', ',', '', '', 'h', 'e', '', '', 'e', '', 'b', '', 'r', 'k', 'e', '', '', '', 'n', '', '', 'n', '', 'e', 'x', '', 'r', '', '', 'r', '', '', 'n', '', 'r', '', '', '', '', 'v', 'e', 'n', '', 'u', 'r', 'e', '', '', 'h', 'r', '', 'u', 'g', 'h', '', '', 'h', 'e', '', 'E', 'n', 'c', 'h', '', 'n', '', 'e', '', '', 'F', '', 'r', 'e', '', '', '.', 'C', 'h', '', 'p', '', 'e', 'r', '', '3', ':', '', 'U', 'n', 'c', '', 'v', 'e', 'r', '', 'n', 'g', '', 'S', 'e', 'c', 'r', 'e', '', '', 'A', '', '', '', 'h', 'e', '', '', 'w', '', 'n', '', 'e', 'r', 'e', '', '', '', 'e', 'e', 'p', 'e', 'r', '', '', 'n', '', '', '', '', 'h', 'e', '', 'f', '', 'r', 'e', '', '', ',', '', 'L', '', 'l', '', '', '', 'n', '', '', 'O', 'l', '', 'v', 'e', 'r', '', '', '', 'u', '', 'b', 'l', 'e', '', '', 'u', 'p', '', 'n', '', '', '', '', 'p', '', 'r', 'k', 'l', '', 'n', 'g', '', 'p', '', 'n', '', '.', '', 'I', '', '', '', 'w', '', '', 'e', 'r', '', 'w', '', '', '', '', '', '', 'c', 'l', 'e', '', 'r', '', '', 'h', '', '', '', 'L', '', 'l', '', '', 'c', '', 'u', 'l', '', '', '', 'e', 'e', '', 'h', 'e', 'r', '', 'r', 'e', 'f', 'l', 'e', 'c', '', '', '', 'n', '', 'p', 'e', 'r', 'f', 'e', 'c', '', 'l', '', '.', '', 'S', 'u', '', '', 'e', 'n', 'l', '', ',', '', '', '', '', 'h', '', '', '', 'e', 'r', '', 'n', 'g', '', 'c', 'r', 'e', '', '', 'u', 'r', 'e', '', 'e', '', 'e', 'r', 'g', 'e', '', '', 'f', 'r', '', '', '', '', 'h', 'e', '', '', 'e', 'p', '', 'h', '', '', '', 'f', '', '', 'h', 'e', '', 'p', '', 'n', '', '.', '', 'I', '', '', 'w', '', '', '', '', '', 'w', '', '', 'e', 'r', '', 'n', '', '', 'p', 'h', '', 'n', '', '', 'e', '', '', 'C', 'r', '', '', '', '', 'l', '.', 'C', 'r', '', '', '', '', 'l', '', 'h', '', '', '', 'r', '', '', '', '', 'n', '', '', 'b', 'l', 'u', 'e', '', 'h', '', '', 'r', '', '', 'h', '', '', '', 'f', 'l', '', 'w', 'e', '', '', '', '', 'w', 'n', '', 'h', 'e', 'r', '', 'b', '', 'c', 'k', '', 'l', '', 'k', 'e', '', '', '', 'w', '', '', 'e', 'r', 'f', '', 'l', 'l', '.', '', 'H', 'e', 'r', '', '', 'e', 'l', '', 'c', '', '', 'e', '', 'w', '', 'n', 'g', '', '', '', 'h', '', '', '', 'e', 'r', 'e', '', '', '', 'n', '', '', 'h', 'e', '', '', 'u', 'n', 'l', '', 'g', 'h', '', ',', '', '', 'n', '', '', 'L', '', 'l', '', '', 'c', '', 'u', 'l', '', 'n', \"'\", '', '', 'h', 'e', 'l', 'p', '', 'b', 'u', '', '', 'b', 'e', '', 'c', '', 'p', '', '', 'v', '', '', 'e', '', '', 'b', '', '', 'h', 'e', 'r', '', 'b', 'e', '', 'u', '', '', '.', '«', '', 'W', 'e', 'l', 'c', '', '', 'e', '', '', '', '', '', '', '', 'h', '', '', 'e', ',', '', 'l', '', '', '', 'l', 'e', '', '', 'n', 'e', '', ',', '', '»', '', 'C', 'r', '', '', '', '', 'l', '', 'c', 'h', '', '', 'e', '', '', '', 'e', 'l', '', '', '', 'c', '', 'l', 'l', '', '.', '', '«', '', 'A', 'r', 'e', '', '', '', 'u', '', 'r', 'e', '', '', '', '', '', '', '', 'u', 'n', 'c', '', 'v', 'e', 'r', '', '', 'h', 'e', '', '', 'e', 'c', 'r', 'e', '', '', '', '', 'f', '', '', 'h', '', '', '', '', '', 'g', '', 'c', '', 'l', '', 'f', '', 'r', 'e', '', '', '?', '', '»', 'L', '', 'l', '', '', 'n', '', '', '', 'e', '', '', 'e', 'n', '', 'h', 'u', '', '', '', '', '', '', 'c', '', 'l', 'l', '', ',', '', '', 'n', '', '', 'O', 'l', '', 'v', 'e', 'r', '', '', '', '', 'l', 'e', '', '', 'w', '', 'r', '', 'l', '', '.', '', 'C', 'r', '', '', '', '', 'l', '', 'l', 'e', '', '', '', 'h', 'e', '', '', '', '', '', '', '', 'h', '', '', '', 'e', 'n', '', 'g', 'r', '', 'v', 'e', '', 'w', 'h', 'e', 'r', 'e', '', '', 'h', 'e', '', '', 'r', 'e', 'e', '', '', 'w', 'h', '', '', 'p', 'e', 'r', 'e', '', '', '', 'n', 'c', '', 'e', 'n', '', '', '', '', 'l', 'e', '', '', '', 'n', '', '', '', 'h', 'e', '', 'f', 'l', '', 'w', 'e', 'r', '', '', '', '', 'n', 'g', '', 'e', 'n', 'c', 'h', '', 'n', '', '', 'n', 'g', '', '', 'e', 'l', '', '', '', 'e', '', '.', '', 'T', 'h', 'e', '', '', 'r', '', '', '', '', 'p', 'e', 'n', '', '', 'h', '', 'u', 'r', '', '', 'l', '', '', '', 'e', 'n', '', 'n', 'g', '', '', '', '', '', 'h', 'e', '', '', '', '', 'r', '', 'e', '', '', '', 'f', '', '', '', '', '', '', 'c', '', 'l', '', 'c', 'r', 'e', '', '', 'u', 'r', 'e', '', '', '', 'n', '', '', '', 'h', 'e', '', 'r', '', 'e', 'x', '', 'r', '', '', 'r', '', '', 'n', '', 'r', '', '', '', 'b', '', 'l', '', '', '', 'e', '', '.', 'C', 'h', '', 'p', '', 'e', 'r', '', '4', ':', '', 'T', 'h', 'e', '', 'J', '', 'u', 'r', 'n', 'e', '', '', 'W', '', '', 'h', '', 'n', 'A', '', '', 'e', 'v', 'e', 'n', '', 'n', 'g', '', '', 'p', 'p', 'r', '', '', 'c', 'h', 'e', '', ',', '', 'C', 'r', '', '', '', '', 'l', '', 'r', 'e', 'v', 'e', '', 'l', 'e', '', '', '', '', '', 'e', 'c', 'r', 'e', '', '', 'p', '', '', '', '', 'g', 'e', '', '', 'h', '', '', '', 'l', 'e', '', '', '', '', '', '', '', 'h', '', '', '', 'e', 'n', '', 'c', '', 'v', 'e', '.', '', '«', '', 'I', 'n', '', '', '', 'e', '', 'l', '', 'e', '', '', '', '', '', '', '', '', 'e', 'r', '', '', 'u', '', '', '', '', 'r', 'r', '', 'r', ',', '', '»', '', '', 'h', 'e', '', 'e', 'x', 'p', 'l', '', '', 'n', 'e', '', '.', '', '«', '', 'I', '', '', 'h', '', '', '', '', 'h', 'e', '', 'p', '', 'w', 'e', 'r', '', '', '', '', 'r', 'e', 'f', 'l', 'e', 'c', '', '', '', 'h', 'e', '', '', 'r', 'u', 'e', '', 'e', '', '', 'e', 'n', 'c', 'e', '', '', 'f', '', '', 'h', '', '', 'e', '', 'w', 'h', '', '', 'g', '', 'z', 'e', '', 'u', 'p', '', 'n', '', '', '', '.', '', '»', 'L', '', 'l', '', \"'\", '', '', 'c', 'u', 'r', '', '', '', '', '', '', '', 'p', 'e', '', 'k', 'e', '', ',', '', '', 'n', '', '', '', 'h', 'e', '', '', '', 'e', 'p', 'p', 'e', '', '', 'c', 'l', '', '', 'e', 'r', '', '', '', '', '', 'h', 'e', '', '', '', 'r', 'r', '', 'r', '.', '', 'A', '', '', '', 'h', 'e', '', 'l', '', '', 'k', 'e', '', '', '', '', '', 'h', 'e', 'r', '', 'r', 'e', 'f', 'l', 'e', 'c', '', '', '', 'n', ',', '', '', 'h', 'e', '', '', '', 'w', '', 'n', '', '', '', 'j', 'u', '', '', '', 'h', 'e', 'r', '', 'p', 'h', '', '', '', 'c', '', 'l', '', '', 'p', 'p', 'e', '', 'r', '', 'n', 'c', 'e', '', 'b', 'u', '', '', '', 'l', '', '', '', 'g', 'l', '', '', 'p', '', 'e', '', '', '', 'f', '', 'h', 'e', 'r', '', '', 'r', 'e', '', '', '', ',', '', 'h', '', 'p', 'e', '', ',', '', '', 'n', '', '', 'f', 'e', '', 'r', '', '.', '', 'T', 'h', 'e', '', '', '', 'r', 'r', '', 'r', '', 'r', 'e', 'v', 'e', '', 'l', 'e', '', '', '', 'h', 'e', '', '', 'e', 'p', '', 'h', '', '', '', 'f', '', 'h', 'e', 'r', '', '', 'w', 'n', '', 'u', 'n', '', 'q', 'u', 'e', '', '', 'p', '', 'r', '', '', '.', 'O', 'l', '', 'v', 'e', 'r', '', '', 'n', '', '', 'C', 'r', '', '', '', '', 'l', '', 'w', '', '', 'c', 'h', 'e', '', '', 'w', '', '', 'h', '', 'k', 'n', '', 'w', '', 'n', 'g', '', '', '', '', 'l', 'e', '', ',', '', 'f', '', 'r', '', '', 'h', 'e', '', '', 'h', '', '', '', 'w', '', '', 'n', 'e', '', '', 'e', '', '', '', 'h', 'e', '', '', 'r', '', 'n', '', 'f', '', 'r', '', '', '', '', 'v', 'e', '', 'p', '', 'w', 'e', 'r', '', '', 'f', '', '', 'h', 'e', '', '', '', 'r', 'r', '', 'r', '', '', '', 'n', '', '', '', '', '', 'e', '', '', 'b', 'e', 'f', '', 'r', 'e', '.', '', 'L', '', 'l', '', '', 'f', 'e', 'l', '', '', '', '', 'n', 'e', 'w', 'f', '', 'u', 'n', '', '', '', 'e', 'n', '', 'e', '', '', 'f', '', '', 'e', 'l', 'f', '-', 'b', 'e', 'l', '', 'e', 'f', '', '', 'n', '', '', 'w', '', 'n', '', 'e', 'r', '', '', 'h', '', '', '', 'w', '', 'u', 'l', '', '', '', '', '', '', '', 'w', '', '', 'h', '', 'h', 'e', 'r', '', 'f', '', 'r', 'e', 'v', 'e', 'r', '.', 'C', 'h', '', 'p', '', 'e', 'r', '', '5', ':', '', 'A', '', 'G', 'r', '', '', 'e', 'f', 'u', 'l', '', 'G', '', '', '', 'b', '', 'e', 'A', 'f', '', 'e', 'r', '', '', 'h', 'e', '', 'r', '', '', 'n', 'c', 'r', 'e', '', '', 'b', 'l', 'e', '', 'j', '', 'u', 'r', 'n', 'e', '', ',', '', '', '', '', 'w', '', '', '', '', '', '', 'e', '', '', '', '', 'b', '', '', '', 'f', '', 'r', 'e', 'w', 'e', 'l', 'l', '.', '', 'L', '', 'l', '', '', 'h', 'u', 'g', 'g', 'e', '', '', 'O', 'l', '', 'v', 'e', 'r', '', '', '', 'g', 'h', '', 'l', '', ',', '', 'g', 'r', '', '', 'e', 'f', 'u', 'l', '', 'f', '', 'r', '', '', 'h', 'e', '', 'r', '', 'n', 'e', 'w', 'f', '', 'u', 'n', '', '', 'f', 'r', '', 'e', 'n', '', '', 'h', '', 'p', '.', '', 'C', 'r', '', '', '', '', 'l', '', 'b', 'e', '', '', '', 'w', 'e', '', '', '', '', '', '', '', 'l', 'l', '', 'c', 'r', '', '', '', '', 'l', '', 'p', 'e', 'n', '', '', 'n', '', '', 'u', 'p', '', 'n', '', 'h', 'e', 'r', ',', '', '', '', '', '', 'k', 'e', 'n', '', '', 'f', '', '', 'h', 'e', '', 'r', '', '', '', 'g', '', 'c', '', 'l', '', 'e', 'n', 'c', '', 'u', 'n', '', 'e', 'r', '.', 'A', '', '', 'L', '', 'l', '', '', '', '', 'e', 'p', 'p', 'e', '', '', '', 'u', '', '', '', 'f', '', '', 'h', 'e', '', 'E', 'n', 'c', 'h', '', 'n', '', 'e', '', '', 'F', '', 'r', 'e', '', '', ',', '', '', 'h', 'e', '', 'c', '', 'u', 'l', '', 'n', \"'\", '', '', 'h', 'e', 'l', 'p', '', 'b', 'u', '', '', 'f', 'e', 'e', 'l', '', '', '', '', 'e', 'n', '', 'e', '', '', 'f', '', 'j', '', '', '', '', 'n', '', '', 'w', '', 'n', '', 'e', 'r', '', 'b', 'u', 'b', 'b', 'l', '', 'n', 'g', '', 'w', '', '', 'h', '', 'n', '', 'h', 'e', 'r', '.', '', 'S', 'h', 'e', '', 'h', '', '', '', '', '', '', 'c', '', 'v', 'e', 'r', 'e', '', '', '', 'h', 'e', '', 'b', 'e', '', 'u', '', '', '', '', 'f', '', 'n', '', '', 'u', 'r', 'e', ',', '', '', 'h', 'e', '', 'p', '', 'w', 'e', 'r', '', '', 'f', '', 'f', 'r', '', 'e', 'n', '', '', 'h', '', 'p', ',', '', '', 'n', '', '', '', '', '', '', '', '', '', 'p', '', 'r', '', '', 'n', '', 'l', '', ',', '', '', 'h', 'e', '', '', '', 'g', '', 'c', '', '', 'h', '', '', '', 'r', 'e', '', '', '', 'e', '', '', 'w', '', '', 'h', '', 'n', '', 'h', 'e', 'r', '', '', 'w', 'n', '', 'h', 'e', '', 'r', '', '.', 'A', 'n', '', '', '', '', ',', '', '', '', '', '', 'h', 'e', '', '', 'u', 'n', '', '', '', 'p', 'p', 'e', '', '', 'b', 'e', 'l', '', 'w', '', '', 'h', 'e', '', 'h', '', 'r', '', 'z', '', 'n', '', '', 'n', '', '', '', 'h', 'e', '', '', '', '', 'r', '', '', '', 'w', '', 'n', 'k', 'l', 'e', '', '', '', 'n', '', '', 'h', 'e', '', 'n', '', 'g', 'h', '', '', '', 'k', '', ',', '', 'L', '', 'l', '', '', 'c', '', 'r', 'r', '', 'e', '', '', '', 'h', 'e', '', 'e', 'n', 'c', 'h', '', 'n', '', '', 'e', 'n', '', '', '', 'f', '', '', 'h', 'e', '', 'E', 'n', 'c', 'h', '', 'n', '', 'e', '', '', 'F', '', 'r', 'e', '', '', '', 'w', '', '', 'h', '', 'h', 'e', 'r', ',', '', 'f', '', 'r', 'e', 'v', 'e', 'r', '', 'g', 'r', '', '', 'e', 'f', 'u', 'l', '', 'f', '', 'r', '', '', 'h', 'e', '', 'j', '', 'u', 'r', 'n', 'e', '', '', '', 'f', '', '', 'e', 'l', 'f', '-', '', '', '', 'c', '', 'v', 'e', 'r', '', '', '', 'h', 'e', '', 'h', '', '', '', 'e', '', 'b', '', 'r', 'k', 'e', '', '', 'u', 'p', '', 'n', '.', 'T', 'h', 'e', '', 'q', 'u', '', 'z', ':', '', '', '', '', '', '', '', 'u', '', 'u', 'n', '', 'e', 'r', '', '', '', 'n', '', '', '', 'h', 'e', '', '', '', '', 'r', '', '', 'w', 'e', 'l', 'l', '?', 'W', 'h', '', '', '', '', '', '', '', 'h', 'e', '', 'n', '', '', 'e', '', '', 'f', '', '', 'h', 'e', '', 'l', '', '', '', 'l', 'e', '', 'g', '', 'r', 'l', '', '', 'n', '', '', 'h', 'e', '', '', '', '', 'r', '', '?', 'L', '', 'l', '', 'O', 'l', '', 'v', 'e', 'r', 'C', 'r', '', '', '', '', 'l', 'E', '', '', '', 'W', 'h', '', '', '', '', '', '', 'L', '', 'l', '', '', '', 'e', 'e', '', '', '', 'n', '', '', 'h', 'e', '', 'E', 'n', 'c', 'h', '', 'n', '', 'e', '', '', 'F', '', 'r', 'e', '', '', '?', 'O', 'l', '', 'v', 'e', 'r', 'C', 'r', '', '', '', '', 'l', 'E', '', '', '', 'N', '', 'n', 'e', '', '', 'f', '', '', 'h', 'e', '', '', 'b', '', 'v', 'e', 'W', 'h', '', '', '', '', '', '', '', 'C', 'r', '', '', '', '', 'l', '', 'g', '', 'v', 'e', '', '', '', '', 'L', '', 'l', '', '', '', '', '', '', '', '', '', 'k', 'e', 'n', '', '', 'f', '', '', 'h', 'e', '', 'r', '', 'e', 'n', 'c', '', 'u', 'n', '', 'e', 'r', '?', 'A', '', 'c', 'r', '', '', '', '', 'l', '', 'p', 'e', 'n', '', '', 'n', '', 'A', '', '', '', 'g', '', 'c', '', 'l', '', 'w', '', 'n', '', 'A', '', 'g', '', 'l', '', 'e', 'n', '', 'c', 'r', '', 'w', 'n', 'A', '', '', 'e', 'c', 'r', 'e', '', '', '', '', 'p', 'W', 'h', 'e', 'r', 'e', '', '', '', '', '', 'L', '', 'l', '', '', '', 'n', '', '', 'O', 'l', '', 'v', 'e', 'r', '', '', '', '', 'c', '', 'v', 'e', 'r', '', '', '', '', 'p', '', 'r', 'k', 'l', '', 'n', 'g', '', 'p', '', 'n', '', '?', 'I', 'n', '', '', 'h', 'e', '', 'E', 'n', 'c', 'h', '', 'n', '', 'e', '', '', 'F', '', 'r', 'e', '', '', 'I', 'n', '', '', 'h', 'e', '', 'H', '', '', '', 'e', 'n', '', 'C', '', 'v', 'e', 'I', 'n', '', '', 'h', 'e', '', 'M', 'e', '', '', '', 'w', 'I', 'n', '', '', 'h', 'e', '', 'M', '', 'g', '', 'c', '', 'l', '', 'C', '', '', '', 'l', 'e', 'W', 'h', '', '', '', '', '', '', '', 'L', '', 'l', '', '', '', 'e', 'e', '', 'w', 'h', 'e', 'n', '', '', 'h', 'e', '', 'l', '', '', 'k', 'e', '', '', '', 'n', '', '', '', '', 'h', 'e', '', '', '', 'g', '', 'c', '', 'l', '', '', '', 'r', 'r', '', 'r', '?', 'H', 'e', 'r', '', '', 'r', 'u', 'e', '', 'e', '', '', 'e', 'n', 'c', 'e', 'H', 'e', 'r', '', 'p', 'h', '', '', '', 'c', '', 'l', '', '', 'p', 'p', 'e', '', 'r', '', 'n', 'c', 'e', 'H', 'e', 'r', '', '', 'r', 'e', '', '', '', '', '', 'n', '', '', 'h', '', 'p', 'e', '', 'A', 'l', 'l', '', '', 'f', '', '', 'h', 'e', '', '', 'b', '', 'v', 'e', 'C', '', 'r', 'r', 'e', 'c', '', '', '', 'n', '', 'w', 'e', 'r', '', ':', '1', ')', '', 'L', '', 'l', '', '', '2', ')', '', 'O', 'l', '', 'v', 'e', 'r', '', '3', ')', '', 'A', '', 'c', 'r', '', '', '', '', 'l', '', 'p', 'e', 'n', '', '', 'n', '', '', '4', ')', '', 'I', 'n', '', '', 'h', 'e', '', 'E', 'n', 'c', 'h', '', 'n', '', 'e', '', '', 'F', '', 'r', 'e', '', '', '', '5', ')', '', 'A', 'l', 'l', '', '', 'f', '', '', 'h', 'e', '', '', 'b', '', 'v', 'e', 'G', 'l', '', '', '', '', 'r', '', ':', '', 'c', '', '', 'p', 'l', '', 'c', '', '', 'e', '', '', 'w', '', 'r', '', '', '', '', 'n', '', '', 'h', 'e', '', '', '', '', 'r', '', 'V', 'e', 'n', '', 'u', 'r', 'e', ':', '', 'T', '', '', 'g', '', '', '', '', '', 'e', 'w', 'h', 'e', 'r', 'e', '', '', 'h', '', '', '', '', '', '', 'u', 'n', 'k', 'n', '', 'w', 'n', '', '', 'r', '', '', '', 'n', 'g', 'e', 'r', '', 'u', '', 'V', '', 'b', 'r', '', 'n', '', ':', '', 'B', 'r', '', 'g', 'h', '', '', '', 'n', '', '', 'f', 'u', 'l', 'l', '', '', 'f', '', 'l', '', 'f', 'e', 'G', '', 'g', '', 'n', '', '', 'c', ':', '', 'E', 'x', '', 'r', 'e', '', 'e', 'l', '', '', 'l', '', 'r', 'g', 'e', 'A', '', '', '', 'n', '', '', 'h', '', 'e', 'n', '', ':', '', 'A', '', 'f', 'e', 'e', 'l', '', 'n', 'g', '', '', 'f', '', 'g', 'r', 'e', '', '', '', '', 'u', 'r', 'p', 'r', '', '', 'e', '', '', 'r', '', 'w', '', 'n', '', 'e', 'r', 'R', 'u', '', 'b', 'l', '', 'n', 'g', ':', '', 'A', '', '', 'e', 'e', 'p', ',', '', 'l', '', 'w', '', '', '', 'u', 'n', '', 'E', '', 'g', 'e', 'r', 'l', '', ':', '', 'W', '', '', 'h', '', 'e', 'x', 'c', '', '', 'e', '', 'e', 'n', '', '', '', 'n', '', '', 'e', 'n', '', 'h', 'u', '', '', '', '', '', 'C', '', 'p', '', '', 'v', '', '', 'e', '', ':', '', 'T', '', '', 'b', 'e', '', 'c', '', '', 'p', 'l', 'e', '', 'e', 'l', '', '', 'f', '', '', 'c', '', 'n', '', '', 'e', '', '', '', 'r', '', 'e', 'n', 'c', 'h', '', 'n', '', 'e', '', '', 'b', '', '', '', '', '', 'e', '', 'h', '', 'n', 'g', 'G', 'r', '', 'v', 'e', ':', '', 'A', '', '', '', '', 'l', 'l', '', 'g', 'r', '', 'u', 'p', '', '', 'f', '', '', 'r', 'e', 'e', '', 'M', 'e', 'l', '', '', '', 'c', '', 'l', 'l', '', ':', '', 'I', 'n', '', '', '', 'w', '', '', '', '', 'h', '', '', '', '', '', '', '', 'w', 'e', 'e', '', '', '', 'n', '', '', 'p', 'l', 'e', '', '', '', 'n', '', '', '', '', '', 'l', '', '', '', 'e', 'n', '', '', '', '', 'E', '', '', 'e', 'n', 'c', 'e', ':', '', 'T', 'h', 'e', '', '', 'r', 'u', 'e', '', 'n', '', '', 'u', 'r', 'e', '', '', 'r', '', '', '', 'e', 'n', '', '', '', '', '', '', 'f', '', '', '', '', 'e', '', 'h', '', 'n', 'g', '', 'T', 'r', '', 'n', '', 'f', '', 'r', '', '', '', '', 'v', 'e', ':', '', 'C', '', 'u', '', '', 'n', 'g', '', '', '', '', '', 'g', 'n', '', 'f', '', 'c', '', 'n', '', '', 'c', 'h', '', 'n', 'g', 'e', '', '', 'r', '', '', 'r', '', 'n', '', 'f', '', 'r', '', '', '', '', '', 'n']\n"
          ]
        }
      ]
    },
    {
      "cell_type": "markdown",
      "source": [
        "## Program to detect unusual text"
      ],
      "metadata": {
        "id": "1u9hZXA83hEe"
      }
    },
    {
      "cell_type": "code",
      "source": [
        "common_words = set([\"list\",\"of\",\"common\",\"words\",\"in\",\"your\",\"language\"])\n"
      ],
      "metadata": {
        "id": "9PYIRBQUf88X"
      },
      "execution_count": 25,
      "outputs": []
    },
    {
      "cell_type": "code",
      "source": [
        "def find_unusual_words(text,common_words):\n",
        "  words =text.split()\n",
        "  unusual_words=set()\n",
        "  for word in words:\n",
        "    word=word.lower()\n",
        "    if word not in common_words:\n",
        "      unusual_words.add(word)\n",
        "\n",
        "  return unusual_words"
      ],
      "metadata": {
        "id": "XoG1NtiV3-hA"
      },
      "execution_count": 26,
      "outputs": []
    },
    {
      "cell_type": "code",
      "source": [
        "text=\"In the heart of a bustling city, there was a small, forgotten park. Overgrown with wildflowers and ancient trees, it was a place where time seemed to stand still. Few people visited, and those who did often left with a sense of wonder and mystery.One sunny afternoon, a young girl named Maya stumbled upon the park while chasing a butterfly. She had never seen this place before, despite living in the city her whole life. Intrigued, she ventured deeper into the park, following the butterfly as it flitted through the trees.As Maya walked, she noticed something strange. The air seemed to shimmer, and the sounds of the city faded away. She felt a sense of calm wash over her, as if the park itself was welcoming her. She followed a winding path until she reached a clearing, where a magnificent tree stood. Its branches were adorned with glowing, golden leaves that seemed to whisper secrets in the breeze.Maya approached the tree and noticed a small, ornate door at its base. Curiosity getting the better of her, she gently pushed it open and stepped inside. To her amazement, she found herself in a vast, enchanted forest. The trees were taller than skyscrapers, and the air was filled with the sweet scent of blooming flowers.As she explored, Maya met a variety of magical creatures. There were talking animals, fairies with iridescent wings, and even a wise old owl who offered her guidance. Each creature she encountered shared stories of the forest’s history and its hidden wonders.Maya soon discovered that the forest was in danger. A dark shadow was spreading, threatening to consume the magic and beauty of the land. Determined to help, she embarked on a quest to find the source of the darkness and restore the forest’s light.With the help of her new friends, Maya journeyed through treacherous terrain and faced numerous challenges. She solved ancient riddles, navigated through enchanted mazes, and even confronted a fearsome dragon. Along the way, she learned valuable lessons about courage, friendship, and the power of hope.In the end, Maya discovered that the source of the darkness was a broken heart. A once-great sorcerer, who had lost his way, was causing the shadow to spread. With compassion and kindness, Maya helped the sorcerer heal, and the darkness began to lift.The forest was restored to its former glory, and Maya returned to the city with a heart full of memories and a newfound sense of purpose. She knew that the enchanted forest would always be a part of her, a reminder that even in the midst of chaos, there is magic to be found if you only believe.\"\n",
        "unusual_words = find_unusual_words(text,common_words)\n",
        "\n"
      ],
      "metadata": {
        "id": "H53aRrbw4USN"
      },
      "execution_count": 27,
      "outputs": []
    },
    {
      "cell_type": "code",
      "source": [
        "print(\"Unusual Words in the text:\")\n",
        "for word in unusual_words:\n",
        "  print(word)"
      ],
      "metadata": {
        "id": "V-LSE5Ls4pOP",
        "outputId": "c4b2c440-990a-4b20-b3bd-f68677a7de04",
        "colab": {
          "base_uri": "https://localhost:8080/"
        }
      },
      "execution_count": 28,
      "outputs": [
        {
          "output_type": "stream",
          "name": "stdout",
          "text": [
            "Unusual Words in the text:\n",
            "had\n",
            "full\n",
            "city\n",
            "only\n",
            "reached\n",
            "fearsome\n",
            "always\n",
            "stepped\n",
            "where\n",
            "ventured\n",
            "branches\n",
            "each\n",
            "into\n",
            "darkness\n",
            "offered\n",
            "seen\n",
            "soon\n",
            "city,\n",
            "vast,\n",
            "dark\n",
            "small,\n",
            "compassion\n",
            "riddles,\n",
            "variety\n",
            "enchanted\n",
            "overgrown\n",
            "life.\n",
            "until\n",
            "land.\n",
            "talking\n",
            "discovered\n",
            "young\n",
            "wise\n",
            "inside.\n",
            "end,\n",
            "walked,\n",
            "the\n",
            "open\n",
            "that\n",
            "friends,\n",
            "numerous\n",
            "sweet\n",
            "trees,\n",
            "part\n",
            "began\n",
            "faced\n",
            "time\n",
            "approached\n",
            "embarked\n",
            "as\n",
            "ornate\n",
            "lessons\n",
            "secrets\n",
            "left\n",
            "itself\n",
            "scent\n",
            "better\n",
            "newfound\n",
            "along\n",
            "maya\n",
            "stood.\n",
            "encountered\n",
            "power\n",
            "away.\n",
            "was\n",
            "deeper\n",
            "light.with\n",
            "to\n",
            "shared\n",
            "whole\n",
            "named\n",
            "air\n",
            "helped\n",
            "were\n",
            "pushed\n",
            "park\n",
            "butterfly.\n",
            "than\n",
            "filled\n",
            "old\n",
            "magical\n",
            "spreading,\n",
            "reminder\n",
            "ancient\n",
            "lost\n",
            "lift.the\n",
            "at\n",
            "forest\n",
            "golden\n",
            "chaos,\n",
            "dragon.\n",
            "a\n",
            "she\n",
            "something\n",
            "leaves\n",
            "met\n",
            "new\n",
            "living\n",
            "challenges.\n",
            "solved\n",
            "trees.as\n",
            "visited,\n",
            "on\n",
            "find\n",
            "place\n",
            "still.\n",
            "mystery.one\n",
            "noticed\n",
            "it\n",
            "there\n",
            "welcoming\n",
            "wildflowers\n",
            "stories\n",
            "base.\n",
            "explored,\n",
            "glory,\n",
            "never\n",
            "her,\n",
            "guidance.\n",
            "courage,\n",
            "girl\n",
            "followed\n",
            "would\n",
            "following\n",
            "sunny\n",
            "path\n",
            "park,\n",
            "door\n",
            "forest’s\n",
            "butterfly\n",
            "magic\n",
            "treacherous\n",
            "magnificent\n",
            "learned\n",
            "memories\n",
            "history\n",
            "about\n",
            "and\n",
            "her\n",
            "clearing,\n",
            "amazement,\n",
            "consume\n",
            "upon\n",
            "felt\n",
            "shimmer,\n",
            "journeyed\n",
            "chasing\n",
            "herself\n",
            "with\n",
            "while\n",
            "forgotten\n",
            "danger.\n",
            "wings,\n",
            "calm\n",
            "returned\n",
            "flowers.as\n",
            "source\n",
            "threatening\n",
            "valuable\n",
            "creature\n",
            "even\n",
            "her.\n",
            "did\n",
            "wash\n",
            "trees\n",
            "heal,\n",
            "winding\n",
            "sorcerer\n",
            "knew\n",
            "help\n",
            "intrigued,\n",
            "its\n",
            "strange.\n",
            "restore\n",
            "purpose.\n",
            "spread.\n",
            "heart\n",
            "hidden\n",
            "sorcerer,\n",
            "park.\n",
            "his\n",
            "sounds\n",
            "bustling\n",
            "those\n",
            "gently\n",
            "fairies\n",
            "beauty\n",
            "kindness,\n",
            "midst\n",
            "believe.\n",
            "heart.\n",
            "wonders.maya\n",
            "tree\n",
            "former\n",
            "people\n",
            "whisper\n",
            "blooming\n",
            "forest.\n",
            "before,\n",
            "animals,\n",
            "is\n",
            "skyscrapers,\n",
            "be\n",
            "over\n",
            "breeze.maya\n",
            "if\n",
            "owl\n",
            "shadow\n",
            "determined\n",
            "iridescent\n",
            "wonder\n",
            "broken\n",
            "adorned\n",
            "you\n",
            "found\n",
            "often\n",
            "afternoon,\n",
            "curiosity\n",
            "who\n",
            "seemed\n",
            "few\n",
            "this\n",
            "glowing,\n",
            "friendship,\n",
            "stand\n",
            "quest\n",
            "mazes,\n",
            "restored\n",
            "hope.in\n",
            "confronted\n",
            "getting\n",
            "way,\n",
            "through\n",
            "faded\n",
            "causing\n",
            "despite\n",
            "creatures.\n",
            "help,\n",
            "flitted\n",
            "once-great\n",
            "taller\n",
            "sense\n",
            "terrain\n",
            "navigated\n",
            "stumbled\n"
          ]
        }
      ]
    },
    {
      "cell_type": "code",
      "source": [],
      "metadata": {
        "id": "el521tNM5GPT"
      },
      "execution_count": 28,
      "outputs": []
    }
  ]
}